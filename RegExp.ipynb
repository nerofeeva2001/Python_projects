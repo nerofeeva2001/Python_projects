{
  "cells": [
    {
      "cell_type": "markdown",
      "id": "e2175239-8768-448b-bc29-463945c68b31",
      "metadata": {
        "id": "e2175239-8768-448b-bc29-463945c68b31"
      },
      "source": [
        "# <center>  Python for biologists"
      ]
    },
    {
      "cell_type": "markdown",
      "id": "403eefa7-434f-4064-964f-fb57308955d8",
      "metadata": {
        "id": "403eefa7-434f-4064-964f-fb57308955d8"
      },
      "source": [
        "## Homework 8, Regular Expressions"
      ]
    },
    {
      "cell_type": "markdown",
      "id": "142bbe8d-bf1e-43ca-9919-f6b6753976c0",
      "metadata": {
        "id": "142bbe8d-bf1e-43ca-9919-f6b6753976c0"
      },
      "source": [
        "***Notion 0***. Feel free to start using shortcuts when working with Jupyter Notebook:\n",
        "- To run the cell `Ctrl`+`Enter`\n",
        "- To run the cell and step to the next one `Shift` + `Enter`\n",
        "- To run the cell and create the new one `Alt` + `Enter`\n",
        "\n",
        "There are two modes of action: cell-editing (the line on the left is green) and cell-selecting (the line on the left is blue).\n",
        "\n",
        "- cell-editing mode &#8594; `Esc` &#8594; cell-selecting mode\n",
        "- cell-selecting mode &#8594; `Enter` &#8594; cell-editing mode\n",
        "\n",
        "In cell-selecting mode you can:\n",
        "\n",
        "- Delete  a cell - `DD`\n",
        "- Undo deleting - `Z`\n"
      ]
    },
    {
      "cell_type": "markdown",
      "id": "880a5f9e-5413-4f3b-b1f0-0bd2fd6c432f",
      "metadata": {
        "id": "880a5f9e-5413-4f3b-b1f0-0bd2fd6c432f"
      },
      "source": [
        "---"
      ]
    },
    {
      "cell_type": "markdown",
      "id": "bd0bc3cd-cb27-438c-a77f-39b405db3086",
      "metadata": {
        "id": "bd0bc3cd-cb27-438c-a77f-39b405db3086"
      },
      "source": [
        "## Правила\n",
        "\n",
        "- За каждое задание **0.4 балла**\n",
        "- От вас требуется только написать значение переменной pattern\n",
        "- Остальной код в ноутбуке трогать запрещено\n",
        "- Смотрите чтобы ваша регулярка подходила под то что нужно и **не** подходила под то что не нужно\n",
        "- Советую всё проверять в [regex101.com](https://regex101.com/), можете выбрать в меню слева `python` (и русский язык в настройках)"
      ]
    },
    {
      "cell_type": "markdown",
      "id": "85ccb1fe-183c-4c04-8b23-acd0010c5847",
      "metadata": {
        "id": "85ccb1fe-183c-4c04-8b23-acd0010c5847"
      },
      "source": [
        "#### Погнали!\n",
        "\n",
        "---"
      ]
    },
    {
      "cell_type": "code",
      "execution_count": 145,
      "id": "0f66ca02-29da-4bca-863b-c2f6be6fda73",
      "metadata": {
        "tags": [],
        "id": "0f66ca02-29da-4bca-863b-c2f6be6fda73"
      },
      "outputs": [],
      "source": [
        "import re"
      ]
    },
    {
      "cell_type": "markdown",
      "id": "5592a260-3342-4878-8085-cfd5104ed8ea",
      "metadata": {
        "editable": true,
        "tags": [],
        "id": "5592a260-3342-4878-8085-cfd5104ed8ea"
      },
      "source": [
        "#### **Задание 1**\n",
        "\n",
        "*это пример*\n",
        "\n",
        "Получите фразу `['Ваш текст']`\n",
        "\n",
        "> Simple is better then complex <br/>\n",
        "> *(c) Дзен Python*\n"
      ]
    },
    {
      "cell_type": "code",
      "execution_count": null,
      "id": "90782e72-5249-46c6-9e80-238fbebab2ac",
      "metadata": {
        "id": "90782e72-5249-46c6-9e80-238fbebab2ac"
      },
      "outputs": [],
      "source": [
        "pattern = r'Ваш текст'"
      ]
    },
    {
      "cell_type": "code",
      "execution_count": null,
      "id": "616d0138-ac86-496f-9c07-2b632b603327",
      "metadata": {
        "editable": false,
        "tags": [],
        "colab": {
          "base_uri": "https://localhost:8080/"
        },
        "id": "616d0138-ac86-496f-9c07-2b632b603327",
        "outputId": "fa527072-9c03-45d8-8f2f-98015e5d7acc"
      },
      "outputs": [
        {
          "output_type": "stream",
          "name": "stdout",
          "text": [
            "['Ваш текст']\n"
          ]
        }
      ],
      "source": [
        "text = 'Ваш текст'\n",
        "print(re.findall(pattern = pattern, string = text))"
      ]
    },
    {
      "cell_type": "markdown",
      "id": "cacfc843-1778-457c-bb9f-1e5a7509d63a",
      "metadata": {
        "id": "cacfc843-1778-457c-bb9f-1e5a7509d63a"
      },
      "source": []
    },
    {
      "cell_type": "markdown",
      "id": "7fb868b6-44f4-4048-af29-0f8004b1f62f",
      "metadata": {
        "editable": true,
        "tags": [],
        "id": "7fb868b6-44f4-4048-af29-0f8004b1f62f"
      },
      "source": [
        "#### **Задание 2**\n",
        "\n",
        "Получите все цифры в строке (в чем разница между цифрами и числами?).\n",
        "\n",
        "Ответ: `['2', '5', '1', '2']`\n"
      ]
    },
    {
      "cell_type": "code",
      "execution_count": null,
      "id": "087055a5-a083-4e9e-af80-89cb891fc6f6",
      "metadata": {
        "id": "087055a5-a083-4e9e-af80-89cb891fc6f6"
      },
      "outputs": [],
      "source": [
        "pattern = r'\\d'"
      ]
    },
    {
      "cell_type": "code",
      "execution_count": null,
      "id": "4881de98-aa5f-479a-8fdb-ef2e7381d926",
      "metadata": {
        "editable": false,
        "tags": [],
        "colab": {
          "base_uri": "https://localhost:8080/"
        },
        "id": "4881de98-aa5f-479a-8fdb-ef2e7381d926",
        "outputId": "ccc1b48e-9945-4b5e-8af2-31bbeacf2bb5"
      },
      "outputs": [
        {
          "output_type": "stream",
          "name": "stdout",
          "text": [
            "['2', '5', '1', '2']\n"
          ]
        }
      ],
      "source": [
        "text = 'Никто не подскажет, какова масса 25 атомов  углерода-12 в дальтонах?'\n",
        "print(re.findall(pattern = pattern, string = text))"
      ]
    },
    {
      "cell_type": "markdown",
      "id": "c427d65a-bd5b-432e-b3c3-c5dd69b4025d",
      "metadata": {
        "id": "c427d65a-bd5b-432e-b3c3-c5dd69b4025d"
      },
      "source": []
    },
    {
      "cell_type": "markdown",
      "id": "ccb3d61b-9f2f-478f-bb61-c085094c8d32",
      "metadata": {
        "id": "ccb3d61b-9f2f-478f-bb61-c085094c8d32"
      },
      "source": [
        "#### **Задание 3**\n",
        "\n",
        "Получите все буквы в строке.\n",
        "\n",
        "Ответ: `['О', 'л', 'ь', 'г', 'а']`\n"
      ]
    },
    {
      "cell_type": "code",
      "execution_count": null,
      "id": "3b156cb8-cde0-4133-bb39-cf08a8215f76",
      "metadata": {
        "id": "3b156cb8-cde0-4133-bb39-cf08a8215f76"
      },
      "outputs": [],
      "source": [
        "pattern = r'\\w'"
      ]
    },
    {
      "cell_type": "code",
      "execution_count": null,
      "id": "77d3399e-cf73-4ea4-ad02-c0d8c19c9edd",
      "metadata": {
        "editable": false,
        "tags": [],
        "colab": {
          "base_uri": "https://localhost:8080/"
        },
        "id": "77d3399e-cf73-4ea4-ad02-c0d8c19c9edd",
        "outputId": "d7d13df6-c4be-4037-c2b0-3b896b4ab3d9"
      },
      "outputs": [
        {
          "output_type": "stream",
          "name": "stdout",
          "text": [
            "['О', 'л', 'ь', 'г', 'а']\n"
          ]
        }
      ],
      "source": [
        "text = 'Ольга'\n",
        "print(re.findall(pattern = pattern, string = text))"
      ]
    },
    {
      "cell_type": "markdown",
      "id": "972ec240-992a-4218-9411-8d2332cf18cd",
      "metadata": {
        "id": "972ec240-992a-4218-9411-8d2332cf18cd"
      },
      "source": []
    },
    {
      "cell_type": "markdown",
      "id": "ece1ebf4-788e-4dfb-a8eb-36a46ea8d27c",
      "metadata": {
        "id": "ece1ebf4-788e-4dfb-a8eb-36a46ea8d27c"
      },
      "source": [
        "##### **Доп. задание**\n",
        "\n",
        "Задание выше - отсылка к [этому курсу](https://stepik.org/course/67/syllabus) на Stepik. В чем заключается отсылка?\n"
      ]
    },
    {
      "cell_type": "code",
      "execution_count": null,
      "id": "3c954252-1aeb-4154-9f8d-27bb7db1719d",
      "metadata": {
        "id": "3c954252-1aeb-4154-9f8d-27bb7db1719d"
      },
      "outputs": [],
      "source": [
        "#>"
      ]
    },
    {
      "cell_type": "markdown",
      "id": "97df4846-d5c8-481a-b00f-8b5a952fc116",
      "metadata": {
        "id": "97df4846-d5c8-481a-b00f-8b5a952fc116"
      },
      "source": []
    },
    {
      "cell_type": "markdown",
      "id": "045df2af-8f45-4040-aa2e-c3366e28c892",
      "metadata": {
        "id": "045df2af-8f45-4040-aa2e-c3366e28c892"
      },
      "source": [
        "#### **Задание 4**\n",
        "\n",
        "Получите все слова в строке.\n",
        "\n",
        "Ответ: `['Подходит', 'желтый', 'гладкий', 'горошек', 'к', 'зелёному', 'морщинистому', 'и', 'говорит']`\n"
      ]
    },
    {
      "cell_type": "code",
      "execution_count": null,
      "id": "c12603ef-6068-47da-848d-2ed67753689d",
      "metadata": {
        "id": "c12603ef-6068-47da-848d-2ed67753689d"
      },
      "outputs": [],
      "source": [
        "pattern = r'\\w+'"
      ]
    },
    {
      "cell_type": "code",
      "execution_count": null,
      "id": "989875d3-5972-455c-9f4b-1aa948e37a48",
      "metadata": {
        "editable": false,
        "tags": [],
        "colab": {
          "base_uri": "https://localhost:8080/"
        },
        "id": "989875d3-5972-455c-9f4b-1aa948e37a48",
        "outputId": "908ab9b2-16b0-4751-a9a9-2dd3c45b3735"
      },
      "outputs": [
        {
          "output_type": "stream",
          "name": "stdout",
          "text": [
            "['Подходит', 'желтый', 'гладкий', 'горошек', 'к', 'зелёному', 'морщинистому', 'и', 'говорит']\n"
          ]
        }
      ],
      "source": [
        "text = 'Подходит желтый гладкий горошек к зелёному морщинистому и говорит'\n",
        "print(re.findall(pattern = pattern, string = text))"
      ]
    },
    {
      "cell_type": "markdown",
      "id": "12363e7b-145a-4aa9-bcb4-b77bbeaf4c29",
      "metadata": {
        "id": "12363e7b-145a-4aa9-bcb4-b77bbeaf4c29"
      },
      "source": []
    },
    {
      "cell_type": "markdown",
      "id": "bc49193f-56cd-4a4c-9f49-0f4304b6c2ca",
      "metadata": {
        "id": "bc49193f-56cd-4a4c-9f49-0f4304b6c2ca"
      },
      "source": [
        "#### **Задание 5**\n",
        "\n",
        "Получите все слова которые начинаются с заглавной буквы\n",
        "\n",
        "Ответ: `['Инбридинг']`"
      ]
    },
    {
      "cell_type": "code",
      "execution_count": null,
      "id": "1d7f46cc-ff0c-4825-a3e4-b9f1a1867b8c",
      "metadata": {
        "id": "1d7f46cc-ff0c-4825-a3e4-b9f1a1867b8c"
      },
      "outputs": [],
      "source": [
        "pattern = r'\\b[А-ЯA-Z]\\w*\\b'"
      ]
    },
    {
      "cell_type": "code",
      "execution_count": null,
      "id": "526f8ab2-b161-4aaa-9a9f-40e422db0854",
      "metadata": {
        "editable": false,
        "tags": [],
        "colab": {
          "base_uri": "https://localhost:8080/"
        },
        "id": "526f8ab2-b161-4aaa-9a9f-40e422db0854",
        "outputId": "f49d152a-4e4e-4382-cc48-0b30ffdc02ec"
      },
      "outputs": [
        {
          "output_type": "stream",
          "name": "stdout",
          "text": [
            "['Инбридинг']\n"
          ]
        }
      ],
      "source": [
        "text = 'Инбридинг дело семейное'\n",
        "print(re.findall(pattern = pattern, string = text))"
      ]
    },
    {
      "cell_type": "markdown",
      "id": "e890c0bb-0091-42fc-8886-4bf07de48e0a",
      "metadata": {
        "id": "e890c0bb-0091-42fc-8886-4bf07de48e0a"
      },
      "source": []
    },
    {
      "cell_type": "markdown",
      "id": "09bbddba-c883-48c9-be10-4377c1088d0d",
      "metadata": {
        "id": "09bbddba-c883-48c9-be10-4377c1088d0d"
      },
      "source": [
        "#### **Задание 6**\n",
        "\n",
        "Получите слово которое находится в начале строки\n",
        "\n",
        "Ответ: `['Путь']`\n"
      ]
    },
    {
      "cell_type": "code",
      "execution_count": null,
      "id": "5905df77-af8e-4a0b-8cd8-c17e7ce9af30",
      "metadata": {
        "id": "5905df77-af8e-4a0b-8cd8-c17e7ce9af30"
      },
      "outputs": [],
      "source": [
        "pattern = r'^\\w+'"
      ]
    },
    {
      "cell_type": "code",
      "execution_count": null,
      "id": "e08c1b9d-28a6-4df4-92e5-7eae9c0545fb",
      "metadata": {
        "editable": false,
        "tags": [],
        "colab": {
          "base_uri": "https://localhost:8080/"
        },
        "id": "e08c1b9d-28a6-4df4-92e5-7eae9c0545fb",
        "outputId": "40bbfb7d-1227-4b70-ab37-90455c140f34"
      },
      "outputs": [
        {
          "output_type": "stream",
          "name": "stdout",
          "text": [
            "['Путь']\n"
          ]
        }
      ],
      "source": [
        "text = 'Путь в тысячу миль начинается с того, что виварий построили двумя этажами выше'\n",
        "print(re.findall(pattern = pattern, string = text))"
      ]
    },
    {
      "cell_type": "markdown",
      "id": "928f0150-e2e8-4783-9d2a-b163cb933d72",
      "metadata": {
        "id": "928f0150-e2e8-4783-9d2a-b163cb933d72"
      },
      "source": []
    },
    {
      "cell_type": "markdown",
      "id": "1ca6c4e7-843f-4525-a789-3cf1ed9960a8",
      "metadata": {
        "id": "1ca6c4e7-843f-4525-a789-3cf1ed9960a8"
      },
      "source": [
        "#### **Задание 7**\n",
        "\n",
        "Получите все небуквенные символы, но не пробелы\n",
        "\n",
        "Ответ: `[',', '?', ',', '.']`\n"
      ]
    },
    {
      "cell_type": "code",
      "execution_count": null,
      "id": "b19a3713-42cb-4079-9b9d-acc5beeca3fd",
      "metadata": {
        "id": "b19a3713-42cb-4079-9b9d-acc5beeca3fd"
      },
      "outputs": [],
      "source": [
        "pattern = r'[^\\w\\s]'"
      ]
    },
    {
      "cell_type": "code",
      "execution_count": null,
      "id": "295a9b94-0134-493a-8699-3ca00cb78815",
      "metadata": {
        "editable": false,
        "tags": [],
        "colab": {
          "base_uri": "https://localhost:8080/"
        },
        "id": "295a9b94-0134-493a-8699-3ca00cb78815",
        "outputId": "3b020473-a132-4772-e1ef-005f4fe58ccb"
      },
      "outputs": [
        {
          "output_type": "stream",
          "name": "stdout",
          "text": [
            "[',', '?', ',', '.']\n"
          ]
        }
      ],
      "source": [
        "text = 'В чем отличие между флагом и теми, кто роняет сервер каждый месяц? Флаг развивается, а они нет.'\n",
        "print(re.findall(pattern = pattern, string = text))"
      ]
    },
    {
      "cell_type": "markdown",
      "id": "cd319970-cb2f-48ca-a368-d9541ff08ea8",
      "metadata": {
        "id": "cd319970-cb2f-48ca-a368-d9541ff08ea8"
      },
      "source": []
    },
    {
      "cell_type": "markdown",
      "id": "b679cfa3-0dcc-4de3-b5bf-6329fd33abd0",
      "metadata": {
        "id": "b679cfa3-0dcc-4de3-b5bf-6329fd33abd0"
      },
      "source": [
        "#### **Задание 8**\n",
        "\n",
        "Получите все слова, заканчивающиеся на `ии` или `ий`\n",
        "\n",
        "Ответ: `['лаборатории', 'средний', 'лабораторий']`\n"
      ]
    },
    {
      "cell_type": "code",
      "execution_count": null,
      "id": "913cbd46-d3ac-42b9-a539-3a99656ef227",
      "metadata": {
        "id": "913cbd46-d3ac-42b9-a539-3a99656ef227"
      },
      "outputs": [],
      "source": [
        "pattern = r'\\b\\w+и[йи]\\b'"
      ]
    },
    {
      "cell_type": "code",
      "execution_count": null,
      "id": "7fbfb663-94fd-4483-a32c-7156de3781b7",
      "metadata": {
        "editable": false,
        "tags": [],
        "colab": {
          "base_uri": "https://localhost:8080/"
        },
        "id": "7fbfb663-94fd-4483-a32c-7156de3781b7",
        "outputId": "0b53eb14-531a-4760-fad0-e5044cae063c"
      },
      "outputs": [
        {
          "output_type": "stream",
          "name": "stdout",
          "text": [
            "['лаборатории', 'средний', 'лабораторий']\n"
          ]
        }
      ],
      "source": [
        "text = '''\n",
        "       Когда студент младших курсов переходит из мокрой лаборатории в биоинформатическую,\n",
        "       он повышает средний IQ обеих лабораторий.\n",
        "       '''\n",
        "print(re.findall(pattern = pattern, string = text))"
      ]
    },
    {
      "cell_type": "markdown",
      "id": "779bb69c-61fe-4408-8c60-8a94ad8e59e0",
      "metadata": {
        "id": "779bb69c-61fe-4408-8c60-8a94ad8e59e0"
      },
      "source": []
    },
    {
      "cell_type": "markdown",
      "id": "86860bad-9b47-41dd-b293-b29766106ad0",
      "metadata": {
        "id": "86860bad-9b47-41dd-b293-b29766106ad0"
      },
      "source": [
        "#### **Задание 9**\n",
        "\n",
        "Получите все слова, в которых ровно 5 букв\n",
        "\n",
        "Ответ: `['Пусть', 'праки', 'тайгу']`\n"
      ]
    },
    {
      "cell_type": "code",
      "execution_count": null,
      "id": "40353a67-93ca-40f3-80f1-9d09cbfca46a",
      "metadata": {
        "id": "40353a67-93ca-40f3-80f1-9d09cbfca46a"
      },
      "outputs": [],
      "source": [
        "pattern = r'\\b\\w{5}\\b'"
      ]
    },
    {
      "cell_type": "code",
      "execution_count": null,
      "id": "93ab53a1-aae1-4158-bc52-7e1a3df43ea4",
      "metadata": {
        "editable": false,
        "tags": [],
        "colab": {
          "base_uri": "https://localhost:8080/"
        },
        "id": "93ab53a1-aae1-4158-bc52-7e1a3df43ea4",
        "outputId": "9161c36d-c4ce-4245-b09d-82ae91e9eb55"
      },
      "outputs": [
        {
          "output_type": "stream",
          "name": "stdout",
          "text": [
            "['Пусть', 'праки', 'тайгу']\n"
          ]
        }
      ],
      "source": [
        "text = 'Пусть несделанные праки унесут в тайгу собаки'\n",
        "print(re.findall(pattern = pattern, string = text))"
      ]
    },
    {
      "cell_type": "markdown",
      "id": "1ecd95ce-1bb1-41cc-8699-da5a389f51bd",
      "metadata": {
        "id": "1ecd95ce-1bb1-41cc-8699-da5a389f51bd"
      },
      "source": []
    },
    {
      "cell_type": "markdown",
      "id": "462e8bdd-ec26-49b4-9ac6-6c13d266fec8",
      "metadata": {
        "id": "462e8bdd-ec26-49b4-9ac6-6c13d266fec8"
      },
      "source": [
        "#### **Задание 10**\n",
        "\n",
        "Получите все слова содержащие букву `o`.\n",
        "\n",
        "Ответ: `['человеку', 'он', 'по', 'позвоночным']`\n"
      ]
    },
    {
      "cell_type": "code",
      "execution_count": null,
      "id": "f839b37f-a10f-4ad7-a2e7-c64dc892a0e7",
      "metadata": {
        "id": "f839b37f-a10f-4ad7-a2e7-c64dc892a0e7"
      },
      "outputs": [],
      "source": [
        "pattern = r'\\b\\w*о\\w*\\b'"
      ]
    },
    {
      "cell_type": "code",
      "execution_count": null,
      "id": "9a002e7f-554b-44be-9b3d-a0256f65eaa6",
      "metadata": {
        "editable": false,
        "tags": [],
        "colab": {
          "base_uri": "https://localhost:8080/"
        },
        "id": "9a002e7f-554b-44be-9b3d-a0256f65eaa6",
        "outputId": "82215e1d-9bd8-4de5-a163-6431a8a1d4a9"
      },
      "outputs": [
        {
          "output_type": "stream",
          "name": "stdout",
          "text": [
            "['человеку', 'он', 'по', 'позвоночным']\n"
          ]
        }
      ],
      "source": [
        "text = 'Дайте человеку рыбу и он завалит зачёт по позвоночным.'\n",
        "print(re.findall(pattern = pattern, string = text))"
      ]
    },
    {
      "cell_type": "markdown",
      "id": "87221cea-79c4-4610-b171-26cfe5012458",
      "metadata": {
        "id": "87221cea-79c4-4610-b171-26cfe5012458"
      },
      "source": []
    },
    {
      "cell_type": "markdown",
      "id": "c93a6a09-babd-464c-94c1-2d3b41f347d8",
      "metadata": {
        "id": "c93a6a09-babd-464c-94c1-2d3b41f347d8"
      },
      "source": []
    },
    {
      "cell_type": "markdown",
      "id": "4a723a7d-1bae-468c-b17b-c7c33a6bda26",
      "metadata": {
        "id": "4a723a7d-1bae-468c-b17b-c7c33a6bda26"
      },
      "source": [
        "#### **Задание 11**\n",
        "\n",
        "Получите все предложения, заканчивающиеся на точку.\n",
        "\n",
        "Ответ: `['Мой дед говорил: невозможно собрать разбитое на маленькие кусочки.', ' Хороший был человек, но плохой биоинформатик.']`\n"
      ]
    },
    {
      "cell_type": "code",
      "execution_count": null,
      "id": "ca910c38-1c01-4218-8f4c-f7e4c20f48a3",
      "metadata": {
        "id": "ca910c38-1c01-4218-8f4c-f7e4c20f48a3"
      },
      "outputs": [],
      "source": [
        "pattern = r'[^.]*\\.'"
      ]
    },
    {
      "cell_type": "code",
      "execution_count": null,
      "id": "ef465668-2e6a-4321-a7aa-f52f5a3a2629",
      "metadata": {
        "editable": false,
        "tags": [],
        "colab": {
          "base_uri": "https://localhost:8080/"
        },
        "id": "ef465668-2e6a-4321-a7aa-f52f5a3a2629",
        "outputId": "9228b522-f40d-4405-da91-ef18892de4a6"
      },
      "outputs": [
        {
          "output_type": "stream",
          "name": "stdout",
          "text": [
            "['Мой дед говорил: невозможно собрать разбитое на маленькие кусочки.', ' Хороший был человек, но плохой биоинформатик.']\n"
          ]
        }
      ],
      "source": [
        "text = 'Мой дед говорил: невозможно собрать разбитое на маленькие кусочки. Хороший был человек, но плохой биоинформатик.'\n",
        "print(re.findall(pattern = pattern, string = text))"
      ]
    },
    {
      "cell_type": "markdown",
      "id": "282a5f56-83d6-4dbc-b971-19a18dabc2be",
      "metadata": {
        "id": "282a5f56-83d6-4dbc-b971-19a18dabc2be"
      },
      "source": []
    },
    {
      "cell_type": "markdown",
      "id": "626d93ba-8b7e-4d8c-a56d-2162c8e8f882",
      "metadata": {
        "id": "626d93ba-8b7e-4d8c-a56d-2162c8e8f882"
      },
      "source": [
        "#### **Задание 12**\n",
        "\n",
        "Получите все слова, в которых есть как минимум 2 гласные подряд.\n",
        "\n",
        "Ответ: `['Смеётся', 'осмеливается', 'смеяться', 'научником']`\n"
      ]
    },
    {
      "cell_type": "code",
      "execution_count": null,
      "id": "3f1ed0f1-62b1-4e08-936d-82fc6b1efa5c",
      "metadata": {
        "id": "3f1ed0f1-62b1-4e08-936d-82fc6b1efa5c"
      },
      "outputs": [],
      "source": [
        "pattern = r'\\b\\w*[аеёиоуыэюя]{2,}\\w*\\b'"
      ]
    },
    {
      "cell_type": "code",
      "execution_count": null,
      "id": "4e274620-3088-4ec2-a91f-8cc2b40d50e2",
      "metadata": {
        "editable": false,
        "tags": [],
        "colab": {
          "base_uri": "https://localhost:8080/"
        },
        "id": "4e274620-3088-4ec2-a91f-8cc2b40d50e2",
        "outputId": "fb2016cc-d817-481c-9896-31d2812dbd88"
      },
      "outputs": [
        {
          "output_type": "stream",
          "name": "stdout",
          "text": [
            "['Смеётся', 'осмеливается', 'смеяться', 'научником']\n"
          ]
        }
      ],
      "source": [
        "text = 'Смеётся над студентом тот, кто не осмеливается смеяться над его научником'\n",
        "print(re.findall(pattern = pattern, string = text))"
      ]
    },
    {
      "cell_type": "markdown",
      "id": "0dfd2b81-087f-4906-94f4-c6613a1392b5",
      "metadata": {
        "id": "0dfd2b81-087f-4906-94f4-c6613a1392b5"
      },
      "source": []
    },
    {
      "cell_type": "markdown",
      "id": "68e07a24-5f15-42d5-a3ad-86f9be990e52",
      "metadata": {
        "id": "68e07a24-5f15-42d5-a3ad-86f9be990e52"
      },
      "source": [
        "#### **Задание 13**\n",
        "\n",
        "Получите все слова в кавычках.\n",
        "\n",
        "Ответ: `['\"Санкции\"', \"'Обед'\"]`\n"
      ]
    },
    {
      "cell_type": "code",
      "execution_count": null,
      "id": "699474bd-ac6a-43c4-8237-d92654ea3c10",
      "metadata": {
        "editable": true,
        "tags": [],
        "id": "699474bd-ac6a-43c4-8237-d92654ea3c10"
      },
      "outputs": [],
      "source": [
        "pattern = r'[\"\\'][^\"\\']*[\"\\']'"
      ]
    },
    {
      "cell_type": "code",
      "execution_count": null,
      "id": "faaa54ba-3bb1-4104-860f-e5f336bc22f4",
      "metadata": {
        "editable": false,
        "tags": [],
        "colab": {
          "base_uri": "https://localhost:8080/"
        },
        "id": "faaa54ba-3bb1-4104-860f-e5f336bc22f4",
        "outputId": "ed482ca8-4b44-4ae9-970b-d266f70c29ab"
      },
      "outputs": [
        {
          "output_type": "stream",
          "name": "stdout",
          "text": [
            "['\"Санкции\"', \"'Обед'\"]\n"
          ]
        }
      ],
      "source": [
        "text = '''\n",
        "       Штирлиц шел по улице.\n",
        "       Мимо пробежала крыса, а за ней учёный с сачком.\n",
        "       \"Санкции\",  — подумал Штирлиц.\n",
        "       'Обед' — подумал учёный.\n",
        "       '''\n",
        "print(re.findall(pattern = pattern, string = text))"
      ]
    },
    {
      "cell_type": "markdown",
      "id": "237be702-dccd-4af8-bb53-1ae22629517b",
      "metadata": {
        "id": "237be702-dccd-4af8-bb53-1ae22629517b"
      },
      "source": []
    },
    {
      "cell_type": "markdown",
      "id": "873a3b58-05f3-447d-a5b6-adef092cf540",
      "metadata": {
        "id": "873a3b58-05f3-447d-a5b6-adef092cf540"
      },
      "source": [
        "#### **Задание 14**\n",
        "\n",
        "Получите как можно больше чисел из этого набора.\n",
        "\n",
        "Ответ: `['4', '8.0', '+16', '-16', '-23.42', '3.14e15', '23e-42', '100.000.000', '-3.099e-734.149']`\n"
      ]
    },
    {
      "cell_type": "code",
      "execution_count": 146,
      "id": "8d23519e-dc57-41ab-9357-688695fb15d4",
      "metadata": {
        "id": "8d23519e-dc57-41ab-9357-688695fb15d4"
      },
      "outputs": [],
      "source": [
        "pattern = r'-?\\d+(?:\\.\\d+)?(?:[eE][+-]?\\d+)?'"
      ]
    },
    {
      "cell_type": "code",
      "execution_count": 147,
      "id": "ad1c9224-e93e-4728-a32f-ab789fa6063f",
      "metadata": {
        "editable": false,
        "tags": [],
        "colab": {
          "base_uri": "https://localhost:8080/"
        },
        "id": "ad1c9224-e93e-4728-a32f-ab789fa6063f",
        "outputId": "77d8c5ba-5427-472f-dba2-71ee8932b2c0"
      },
      "outputs": [
        {
          "output_type": "stream",
          "name": "stdout",
          "text": [
            "['4', '8.0', '16', '-16', '-23.42', '3.14e15', '23e-42', '100.000', '000', '-3.099e-734', '149']\n",
            "Получилось 11 чисел, ожидается 9\n"
          ]
        }
      ],
      "source": [
        "text = '4 8.0 +16 -16 -23.42 3.14e15 23e-42 100.000.000 -3.099e-734.149'\n",
        "result = re.findall(pattern = pattern, string = text)\n",
        "print(result)\n",
        "print(f'Получилось {len(result)} чисел, ожидается 9')"
      ]
    },
    {
      "cell_type": "markdown",
      "id": "58ca4ab5-a57a-4d0d-bb08-fe0313afbe02",
      "metadata": {
        "id": "58ca4ab5-a57a-4d0d-bb08-fe0313afbe02"
      },
      "source": [
        "##### **Доп. задание**\n",
        "\n",
        "Последнее число - тоже отсылка :)\n",
        "К чему?\n"
      ]
    },
    {
      "cell_type": "code",
      "execution_count": null,
      "id": "1041f679-61d1-4f2d-8c6d-16ec8bec9c24",
      "metadata": {
        "id": "1041f679-61d1-4f2d-8c6d-16ec8bec9c24"
      },
      "outputs": [],
      "source": [
        "#>"
      ]
    },
    {
      "cell_type": "markdown",
      "id": "0c047916-4d1e-4e95-8723-0044342cf12d",
      "metadata": {
        "id": "0c047916-4d1e-4e95-8723-0044342cf12d"
      },
      "source": []
    },
    {
      "cell_type": "markdown",
      "id": "2a57fd32-ccab-46dc-9540-6fde5668b0f5",
      "metadata": {
        "id": "2a57fd32-ccab-46dc-9540-6fde5668b0f5"
      },
      "source": [
        "#### **Задание 15**\n",
        "\n",
        "Получите все валидные номера телефона из 'data/phones.txt'.\n",
        "\n",
        "Ответ: `['\"7(911) 345-34-56\"', '\"7(923)355-56-53\"', '\"+7(923)355-56-53\"', '\"8(988)245 45 32\"', '\"88005553535\"', '\"+7 921 445 43 22\"']`\n"
      ]
    },
    {
      "cell_type": "code",
      "execution_count": 155,
      "id": "c7479902-f406-4385-b6c7-d1d4461a08a2",
      "metadata": {
        "id": "c7479902-f406-4385-b6c7-d1d4461a08a2"
      },
      "outputs": [],
      "source": [
        "pattern = r'(?:\\+?[78]\\d{10}|\"\\+7\\(\\d{3}\\)\\s?\\d{3}-\\d{2}-\\d{2}\"|\"\\+7\\s\\d{3}\\s\\d{3}\\s\\d{2}\\s\\d{2}\")'"
      ]
    },
    {
      "cell_type": "code",
      "execution_count": 158,
      "id": "87af0a97-b1cf-4978-9dc7-8611b31dc768",
      "metadata": {
        "editable": false,
        "tags": [],
        "colab": {
          "base_uri": "https://localhost:8080/"
        },
        "id": "87af0a97-b1cf-4978-9dc7-8611b31dc768",
        "outputId": "f72b2679-a81d-44bd-fd64-0bb2dd637737"
      },
      "outputs": [
        {
          "output_type": "stream",
          "name": "stdout",
          "text": [
            "['8(988)245 45 32', '88005553535', '+7 921 445 43 22', '+7(666)666 66 66 66']\n",
            "Получилось 4 номеров, ожидается 6\n"
          ]
        }
      ],
      "source": [
        "with open('phones.txt', mode='r') as f:\n",
        "    text = f.read()\n",
        "result = re.findall(pattern = pattern, string = text)\n",
        "print(result)\n",
        "print(f'Получилось {len(result)} номеров, ожидается 6')"
      ]
    },
    {
      "cell_type": "markdown",
      "id": "d8364513-ef1c-4b10-b1f9-257c72383736",
      "metadata": {
        "id": "d8364513-ef1c-4b10-b1f9-257c72383736"
      },
      "source": []
    },
    {
      "cell_type": "markdown",
      "id": "ee9e37eb-4505-48ee-81c0-dbf5ac549050",
      "metadata": {
        "id": "ee9e37eb-4505-48ee-81c0-dbf5ac549050"
      },
      "source": [
        " ---"
      ]
    },
    {
      "cell_type": "markdown",
      "id": "0d0cb2b6-423f-463f-a304-10d9fe16bf16",
      "metadata": {
        "id": "0d0cb2b6-423f-463f-a304-10d9fe16bf16"
      },
      "source": [
        "## Демонстрируем наши заслуги\n",
        "\n",
        "(см. README)"
      ]
    },
    {
      "cell_type": "code",
      "source": [
        "# Функция для перевода текста на \"солёный язык\" (Wiki)\n",
        "def to_salt_language(text):\n",
        "    vowels = \"аеёиоуыэюяАЕЁИОУЫЭЮЯ\"  # Гласные буквы\n",
        "    translated_text = \"\"\n",
        "    skip_next = False  # Флаг для пропуска следующей буквы\n",
        "    for char in text:\n",
        "        if skip_next:\n",
        "            skip_next = False\n",
        "            continue\n",
        "        if char in vowels:\n",
        "            # Если буква - гласная, то добавляем \"с\" и еще раз эту гласную\n",
        "            translated_text += f\"{char}с{char}\"\n",
        "        else:\n",
        "            translated_text += char\n",
        "        if char == 'ь':\n",
        "            # Пропускаем следующую букву после мягкого знака\n",
        "            skip_next = True\n",
        "    return translated_text"
      ],
      "metadata": {
        "id": "VLf9nYn76Czl"
      },
      "id": "VLf9nYn76Czl",
      "execution_count": 208,
      "outputs": []
    },
    {
      "cell_type": "code",
      "source": [
        "text = \"У попа была собака, он её любил. Она съела кусок мяса, он её убил.\"\n",
        "salted_text = to_salt_language(text)\n",
        "print(salted_text)"
      ],
      "metadata": {
        "colab": {
          "base_uri": "https://localhost:8080/"
        },
        "id": "-XNnzBmD-m-m",
        "outputId": "6f3f2a19-5274-41bc-e6b0-fcc455c961c3"
      },
      "id": "-XNnzBmD-m-m",
      "execution_count": 209,
      "outputs": [
        {
          "output_type": "stream",
          "name": "stdout",
          "text": [
            "УсУ посопаса бысыласа сособасакаса, осон есеёсё люсюбисил. ОсОнаса съеселаса кусусосок мясясаса, осон есеёсё усубисил.\n"
          ]
        }
      ]
    },
    {
      "cell_type": "code",
      "source": [
        "# Функция для извлечения аккордов из файла песни. Вариант1 (просто имеющиеся)\n",
        "def extract_chords_from_file(file_path):\n",
        "    chords = set()\n",
        "    with open(file_path, 'r', encoding='utf-8') as file:\n",
        "        lines = file.read().split('\\n')\n",
        "        for line in lines:\n",
        "            # Используем регулярное выражение для поиска аккордов в каждой строке\n",
        "            chord_matches = re.findall(r'\\b[A-G][#b]?(?:m|add)?\\b', line)\n",
        "            chords.update(chord_matches)\n",
        "    return chords"
      ],
      "metadata": {
        "id": "qQJ_-sV06FmW"
      },
      "id": "qQJ_-sV06FmW",
      "execution_count": 195,
      "outputs": []
    },
    {
      "cell_type": "code",
      "source": [
        "song_file_path = 'data/song.txt'\n",
        "chords = extract_chords_from_file(song_file_path)\n",
        "print(\"Извлеченные аккорды:\")\n",
        "for chord in chords:\n",
        "    print(chord)"
      ],
      "metadata": {
        "colab": {
          "base_uri": "https://localhost:8080/"
        },
        "id": "b5twj93a9lUI",
        "outputId": "9aacd444-37fb-48b3-aba5-fafaf125fe92"
      },
      "id": "b5twj93a9lUI",
      "execution_count": 198,
      "outputs": [
        {
          "output_type": "stream",
          "name": "stdout",
          "text": [
            "Извлеченные аккорды:\n",
            "Dm\n",
            "C\n",
            "Am\n",
            "F\n",
            "E\n",
            "G\n"
          ]
        }
      ]
    },
    {
      "cell_type": "code",
      "source": [
        "# Функция для извлечения аккордов из файла песни. Вариант2 (по порядку)\n",
        "def extract_chords_from_file(file_path):\n",
        "    chords = []\n",
        "    with open(file_path, 'r', encoding='utf-8') as file:\n",
        "        lines = file.read().split('\\n')\n",
        "        for line in lines:\n",
        "            chord_matches = re.findall(r'\\b[A-G][#b]?(?:m|add)?\\b', line)\n",
        "            chords.extend(chord_matches)\n",
        "    return chords"
      ],
      "metadata": {
        "id": "g7r682sj9Wkd"
      },
      "id": "g7r682sj9Wkd",
      "execution_count": 199,
      "outputs": []
    },
    {
      "cell_type": "code",
      "source": [
        "song_file_path = 'data/song.txt'  # Путь к файлу с текстом и аккордами\n",
        "chords = extract_chords_from_file(song_file_path)\n",
        "print(\"Извлеченные аккорды:\")\n",
        "for chord in chords:\n",
        "    print(chord)"
      ],
      "metadata": {
        "colab": {
          "base_uri": "https://localhost:8080/"
        },
        "id": "if4RKunR7hvt",
        "outputId": "9fce629d-307a-47c0-ae37-ae18b6d5ad26"
      },
      "id": "if4RKunR7hvt",
      "execution_count": 200,
      "outputs": [
        {
          "output_type": "stream",
          "name": "stdout",
          "text": [
            "Извлеченные аккорды:\n",
            "Am\n",
            "Dm\n",
            "E\n",
            "Am\n",
            "Dm\n",
            "E\n",
            "C\n",
            "Dm\n",
            "F\n",
            "E\n",
            "C\n",
            "Dm\n",
            "E\n",
            "Am\n",
            "G\n",
            "Dm\n",
            "E\n",
            "Am\n",
            "G\n",
            "Dm\n",
            "E\n",
            "C\n",
            "E\n",
            "Dm\n",
            "E\n",
            "Am\n",
            "Am\n",
            "G\n",
            "Dm\n",
            "E\n",
            "Am\n",
            "Dm\n",
            "E\n",
            "Am\n",
            "Dm\n",
            "E\n",
            "C\n",
            "Dm\n",
            "F\n",
            "E\n",
            "C\n",
            "Dm\n",
            "E\n",
            "Am\n",
            "G\n",
            "Dm\n",
            "E\n",
            "Am\n",
            "G\n",
            "Dm\n",
            "E\n",
            "C\n",
            "E\n",
            "Dm\n",
            "E\n",
            "Am\n",
            "Am\n",
            "G\n",
            "Dm\n",
            "E\n",
            "Am\n",
            "Dm\n",
            "E\n",
            "Am\n",
            "Dm\n",
            "E\n",
            "C\n",
            "Dm\n",
            "F\n",
            "E\n",
            "C\n",
            "Dm\n",
            "E\n",
            "Am\n",
            "G\n",
            "Dm\n",
            "E\n",
            "Am\n",
            "G\n",
            "Dm\n",
            "E\n",
            "C\n",
            "E\n",
            "Dm\n",
            "E\n",
            "Am\n",
            "E\n",
            "Am\n",
            "E\n",
            "Am\n"
          ]
        }
      ]
    },
    {
      "cell_type": "code",
      "execution_count": 225,
      "id": "34375db3-4443-4765-b8b5-c75f0c34ff29",
      "metadata": {
        "id": "34375db3-4443-4765-b8b5-c75f0c34ff29",
        "outputId": "4ca8988d-b5fe-47ef-914b-7f17841af401",
        "colab": {
          "base_uri": "https://localhost:8080/"
        }
      },
      "outputs": [
        {
          "output_type": "execute_result",
          "data": {
            "text/plain": [
              "['Mix-G2_S22_L001_R1_001.fastq',\n",
              " 'Mix-G2_S22_L001_R2_001.fastq',\n",
              " 'Mix-G1_S21_L001_R1_001.fastq',\n",
              " 'Mix-G1_S21_L001_R2_001.fastq']"
            ]
          },
          "metadata": {},
          "execution_count": 225
        }
      ],
      "source": [
        "import os\n",
        "import re\n",
        "\n",
        "os.listdir('fastqs') # вот файлы для переименовки"
      ]
    },
    {
      "cell_type": "code",
      "source": [
        "import os\n",
        "import shutil\n",
        "def rename_files(dir, pattern, new_pattern=None, sample_names=None, to_replace=False):\n",
        "    if not os.path.exists(dir):\n",
        "        print(f\"Директория {dir} не существует.\")\n",
        "        return\n",
        "    for filename in os.listdir(dir):\n",
        "        if filename.startswith(pattern) and filename.endswith(\".fastq\"):\n",
        "            parts = filename.split(\"_\")\n",
        "            if len(parts) == 5:\n",
        "                sample_name = parts[0][4:]  # Извлекаем часть имени после \"Mix-\"\n",
        "                read_number = parts[3][1:]  # Извлекаем часть имени после \"R\"\n",
        "                new_filename = f\"{sample_name}_R{read_number}.fastq\"\n",
        "                if sample_names:\n",
        "                    for sample_name, new_sample_name in sample_names.items():\n",
        "                        new_filename = new_filename.replace(sample_name, new_sample_name)\n",
        "                if new_pattern:\n",
        "                    new_filename = new_filename.replace(pattern, new_pattern)\n",
        "                new_file_path = os.path.join(dir, new_filename)\n",
        "                if to_replace:\n",
        "                    os.rename(os.path.join(dir, filename), new_file_path)\n",
        "                else:\n",
        "                    shutil.copyfile(os.path.join(dir, filename), new_file_path)\n",
        "    print(f\"Файлы в директории {dir} были переименованы согласно указанным параметрам.\")"
      ],
      "metadata": {
        "id": "xZv3wShR5esf"
      },
      "id": "xZv3wShR5esf",
      "execution_count": 326,
      "outputs": []
    },
    {
      "cell_type": "code",
      "source": [
        "directory_path = \"fastqs\"\n",
        "rename_pattern = \"Mix-\"\n",
        "new_pattern = None\n",
        "sample_names = {'G1': 'WT_rep1', 'G2': 'WT_rep2'}\n",
        "rename_files(directory_path, rename_pattern, new_pattern, sample_names, to_replace=False)\n"
      ],
      "metadata": {
        "colab": {
          "base_uri": "https://localhost:8080/"
        },
        "id": "zTbHu4qUQjJZ",
        "outputId": "b4bf4679-3bfe-419c-ccac-3ccc30d3a301"
      },
      "id": "zTbHu4qUQjJZ",
      "execution_count": 328,
      "outputs": [
        {
          "output_type": "stream",
          "name": "stdout",
          "text": [
            "Файлы в директории fastqs были переименованы согласно указанным параметрам.\n"
          ]
        }
      ]
    },
    {
      "cell_type": "code",
      "execution_count": 332,
      "id": "e0b49cfd-7af8-4efa-a642-d31bcd2abdac",
      "metadata": {
        "id": "e0b49cfd-7af8-4efa-a642-d31bcd2abdac",
        "colab": {
          "base_uri": "https://localhost:8080/"
        },
        "outputId": "8db9a892-f7d4-438c-f408-01cbb0bd67cc"
      },
      "outputs": [
        {
          "output_type": "execute_result",
          "data": {
            "text/plain": [
              "['Mix-G2_S22_L001_R1_001.fastq',\n",
              " '.ipynb_checkpoints',\n",
              " 'WT_rep2_R2.fastq',\n",
              " 'Mix-G2_S22_L001_R2_001.fastq',\n",
              " 'WT_rep2_R1.fastq',\n",
              " 'WT_rep1_R2.fastq',\n",
              " 'Mix-G1_S21_L001_R1_001.fastq',\n",
              " 'Mix-G1_S21_L001_R2_001.fastq',\n",
              " 'WT_rep1_R1.fastq']"
            ]
          },
          "metadata": {},
          "execution_count": 332
        }
      ],
      "source": [
        "os.listdir('fastqs') # посмотрим что вышло :)"
      ]
    },
    {
      "cell_type": "markdown",
      "id": "9d6b674e-1130-40c4-bac6-1693e7838ea1",
      "metadata": {
        "id": "9d6b674e-1130-40c4-bac6-1693e7838ea1"
      },
      "source": []
    },
    {
      "cell_type": "markdown",
      "id": "a14e076d-4298-4421-8f74-403d76339d6d",
      "metadata": {
        "id": "a14e076d-4298-4421-8f74-403d76339d6d"
      },
      "source": []
    },
    {
      "cell_type": "markdown",
      "id": "27aad143-d189-40d3-9387-5596b77c65d3",
      "metadata": {
        "id": "27aad143-d189-40d3-9387-5596b77c65d3"
      },
      "source": []
    },
    {
      "cell_type": "markdown",
      "id": "19779e9a-5a0a-45ab-afc2-b968c81acdc8",
      "metadata": {
        "id": "19779e9a-5a0a-45ab-afc2-b968c81acdc8"
      },
      "source": [
        "Надеюсь, у тебя всё получилось! Но в любом случае - ты молодец:)🥳"
      ]
    },
    {
      "cell_type": "markdown",
      "id": "acd3815b-14af-44df-8d78-11f261e46325",
      "metadata": {
        "id": "acd3815b-14af-44df-8d78-11f261e46325"
      },
      "source": [
        "---"
      ]
    }
  ],
  "metadata": {
    "kernelspec": {
      "display_name": "Python 3 (ipykernel)",
      "language": "python",
      "name": "python3"
    },
    "language_info": {
      "codemirror_mode": {
        "name": "ipython",
        "version": 3
      },
      "file_extension": ".py",
      "mimetype": "text/x-python",
      "name": "python",
      "nbconvert_exporter": "python",
      "pygments_lexer": "ipython3",
      "version": "3.11.4"
    },
    "colab": {
      "provenance": []
    }
  },
  "nbformat": 4,
  "nbformat_minor": 5
}