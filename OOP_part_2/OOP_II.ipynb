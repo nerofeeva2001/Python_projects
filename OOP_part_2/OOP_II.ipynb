{
  "cells": [
    {
      "cell_type": "markdown",
      "id": "bcc5b0a5-e554-488d-a1ee-52248ccf40b6",
      "metadata": {
        "id": "bcc5b0a5-e554-488d-a1ee-52248ccf40b6"
      },
      "source": [
        "# 1. Ссылки на PR c фидбеком (2 штуки).\n",
        "\n",
        "В идеале активной ссылкой.\n",
        "\n",
        ">Если тут не будет ссылок, вы получите 0 баллов за ревью!"
      ]
    },
    {
      "cell_type": "markdown",
      "id": "0f6f6550-4889-4ab5-a792-ec35aff6c79c",
      "metadata": {
        "id": "0f6f6550-4889-4ab5-a792-ec35aff6c79c"
      },
      "source": []
    },
    {
      "cell_type": "markdown",
      "id": "EfYOJvMH8sjs",
      "metadata": {
        "id": "EfYOJvMH8sjs"
      },
      "source": [
        "https://github.com/Python-BI-2023/Peer_review/pull/18#pullrequestreview-1926056813 - ревью на SFR1"
      ]
    },
    {
      "cell_type": "markdown",
      "id": "VRf6BM_gIPvT",
      "metadata": {
        "id": "VRf6BM_gIPvT"
      },
      "source": [
        "https://github.com/Python-BI-2023/Peer_review/pull/36#pullrequestreview-1926071072 - ревью на RGL1"
      ]
    },
    {
      "cell_type": "markdown",
      "id": "78e474fe-398e-45b2-a774-4a1175938687",
      "metadata": {
        "id": "78e474fe-398e-45b2-a774-4a1175938687"
      },
      "source": [
        "# 2. Примеры работы вашего кода:\n",
        "\n",
        " Приведите ниже по 1-3 примера на каждое из заданий. Структурируйте свой ноутбук с помощью заголовков."
      ]
    },
    {
      "cell_type": "code",
      "execution_count": 27,
      "id": "0fcc5753-5f1b-4d03-a9ae-8ee11456bd01",
      "metadata": {
        "id": "0fcc5753-5f1b-4d03-a9ae-8ee11456bd01"
      },
      "outputs": [],
      "source": [
        "from OOP_II import MeasureTime, TmpDir, MyDict, OpenFasta, FastaRecord"
      ]
    },
    {
      "cell_type": "code",
      "execution_count": 29,
      "id": "pDqp7UmdKR1u",
      "metadata": {
        "colab": {
          "base_uri": "https://localhost:8080/"
        },
        "id": "pDqp7UmdKR1u",
        "outputId": "a859caff-e2cd-4331-e3f5-f786b2ecfd33"
      },
      "outputs": [
        {
          "name": "stdout",
          "output_type": "stream",
          "text": [
            "Блок кода выполнен за: 0.080840 сек.\n"
          ]
        }
      ],
      "source": [
        "# Пример использования\n",
        "with MeasureTime():\n",
        "    # Вставьте здесь код, время выполнения которого вы хотите замерить\n",
        "    sum([x for x in range(1000000)])"
      ]
    },
    {
      "cell_type": "code",
      "execution_count": 30,
      "id": "cX-r29QFK3sN",
      "metadata": {
        "colab": {
          "base_uri": "https://localhost:8080/"
        },
        "id": "cX-r29QFK3sN",
        "outputId": "44137f02-ccae-43f8-8e16-3acff41c4ea6"
      },
      "outputs": [
        {
          "name": "stdout",
          "output_type": "stream",
          "text": [
            "Временная директория создана: ./tmpb0o_bivf\n"
          ]
        }
      ],
      "source": [
        "# Пример использования\n",
        "with TmpDir(to_delete=True) as tmp_dir:\n",
        "    print(f\"Временная директория создана: {tmp_dir}\")\n",
        "    with open(os.path.join(tmp_dir, 'temp_file.txt'), 'w') as f:\n",
        "        f.write(\"Тестовый текст\")"
      ]
    },
    {
      "cell_type": "code",
      "execution_count": 31,
      "id": "sRGisp75Pvq6",
      "metadata": {
        "colab": {
          "base_uri": "https://localhost:8080/"
        },
        "id": "sRGisp75Pvq6",
        "outputId": "9e776bf7-2dc5-48d8-d70c-ff17d7093c4e"
      },
      "outputs": [
        {
          "name": "stdout",
          "output_type": "stream",
          "text": [
            "{'one': 1, 'two': 2, 'three': 3}\n",
            "one = 1\n",
            "two = 2\n",
            "three = 3\n",
            "{'one': 1, 'two': 2, 'three': 3, 'four': 4}\n",
            "{'two': 2, 'three': 3, 'four': 4}\n"
          ]
        }
      ],
      "source": [
        "# Пример использования\n",
        "my_dict = MyDict(one=1, two=2, three=3)\n",
        "print(my_dict)  # Вывод содержимого словаря\n",
        "\n",
        "for key, value in my_dict:\n",
        "    print(f\"{key} = {value}\")  # Итерация по словарю с выводом пар ключ-значение\n",
        "\n",
        "# Добавление нового элемента и вывод содержимого\n",
        "my_dict['four'] = 4\n",
        "print(my_dict)\n",
        "\n",
        "# Удаление элемента и вывод содержимого\n",
        "del my_dict['one']\n",
        "print(my_dict)"
      ]
    },
    {
      "cell_type": "code",
      "execution_count": 32,
      "id": "52LECjwfT1vW",
      "metadata": {
        "colab": {
          "base_uri": "https://localhost:8080/"
        },
        "id": "52LECjwfT1vW",
        "outputId": "3975312d-5475-4866-8dfb-49eb071ccda1"
      },
      "outputs": [
        {
          "name": "stdout",
          "output_type": "stream",
          "text": [
            "FastaRecord(id='GTD323452', description='5S_rRNA NODE_272_length_223_cov_0.720238:18-129(+)', seq='ACGGCCATAG...')\n",
            "FastaRecord(id='GTD678345', description='16S_rRNA NODE_80_length_720_cov_1.094737:313-719(+)', seq='TTGGCTTCTT...')\n",
            "FastaRecord(id='GTD174893', description='16S_rRNA NODE_1_length_2558431_cov_75.185164:2153860-2155398(+)', seq='TTGAAGAGTT...')\n",
            "FastaRecord(id='GTD906783', description='16S_rRNA NODE_1_length_2558431_cov_75.185164:793941-795479(-)', seq='TTGAAGAGTT...')\n",
            "FastaRecord(id='GTD129563', description='16S_rRNA NODE_4_length_428221_cov_75.638017:281055-282593(-)', seq='CGGACGGGTG...')\n",
            "FastaRecord(id='GTD323452', description='5S_rRNA NODE_272_length_223_cov_0.720238:18-129(+)', seq='ACGGCCATAG...')\n",
            "[FastaRecord(id='GTD323452', description='5S_rRNA NODE_272_length_223_cov_0.720238:18-129(+)', seq='ACGGCCATAG...'), FastaRecord(id='GTD678345', description='16S_rRNA NODE_80_length_720_cov_1.094737:313-719(+)', seq='TTGGCTTCTT...'), FastaRecord(id='GTD174893', description='16S_rRNA NODE_1_length_2558431_cov_75.185164:2153860-2155398(+)', seq='TTGAAGAGTT...'), FastaRecord(id='GTD906783', description='16S_rRNA NODE_1_length_2558431_cov_75.185164:793941-795479(-)', seq='TTGAAGAGTT...'), FastaRecord(id='GTD129563', description='16S_rRNA NODE_4_length_428221_cov_75.638017:281055-282593(-)', seq='CGGACGGGTG...')]\n"
          ]
        }
      ],
      "source": [
        "with OpenFasta(\"example_fasta.fasta\") as fasta_file:\n",
        "    for record in fasta_file:\n",
        "        print(record)\n",
        "        # Выводит информацию о каждой записи\n",
        "    # Для чтения одной записи:\n",
        "    record = fasta_file.read_record()\n",
        "    print(record)\n",
        "    # Для чтения всех записей сразу:\n",
        "    records = fasta_file.read_records()\n",
        "    print(records)"
      ]
    }
  ],
  "metadata": {
    "colab": {
      "provenance": []
    },
    "kernelspec": {
      "display_name": "python_bi",
      "language": "python",
      "name": "python_bi"
    },
    "language_info": {
      "codemirror_mode": {
        "name": "ipython",
        "version": 3
      },
      "file_extension": ".py",
      "mimetype": "text/x-python",
      "name": "python",
      "nbconvert_exporter": "python",
      "pygments_lexer": "ipython3",
      "version": "3.12.1"
    }
  },
  "nbformat": 4,
  "nbformat_minor": 5
}
