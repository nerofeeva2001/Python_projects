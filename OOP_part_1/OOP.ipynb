{
  "cells": [
    {
      "cell_type": "code",
      "execution_count": 9,
      "id": "83cfca59-e8d0-4e26-8cb8-fff3efaf1b26",
      "metadata": {
        "id": "83cfca59-e8d0-4e26-8cb8-fff3efaf1b26",
        "is_executing": true
      },
      "outputs": [],
      "source": [
        "from OOP import (User, Booking, LabEquipment,\n",
        "                      GenCodeInterpreter,\n",
        "                      meet_the_dunders\n",
        ")"
      ]
    },
    {
      "cell_type": "code",
      "execution_count": 21,
      "id": "qKy_K7ZeWfWv",
      "metadata": {
        "id": "qKy_K7ZeWfWv"
      },
      "outputs": [],
      "source": [
        "from datetime import datetime, timedelta\n",
        "import numpy as np"
      ]
    },
    {
      "cell_type": "markdown",
      "id": "bcc5b0a5-e554-488d-a1ee-52248ccf40b6",
      "metadata": {
        "id": "bcc5b0a5-e554-488d-a1ee-52248ccf40b6"
      },
      "source": [
        "# 0. Ссылка на PR части II.\n",
        "\n",
        "Приложите ниже ссылку на PR HW 14 из вашего личного репозитория (см. README)"
      ]
    },
    {
      "cell_type": "markdown",
      "id": "rHmw2-ocdAZc",
      "metadata": {
        "id": "rHmw2-ocdAZc"
      },
      "source": [
        "https://github.com/nerofeeva2001/HW5-6_Help_me/pull/3"
      ]
    },
    {
      "cell_type": "markdown",
      "id": "78e474fe-398e-45b2-a774-4a1175938687",
      "metadata": {
        "id": "78e474fe-398e-45b2-a774-4a1175938687"
      },
      "source": [
        "# 1. Система бронирования оборудования\n",
        "\n",
        "Сопроводите написанную систему небольшим примером (2-3 бронирования, какое-нибудь успешное и неуспешное)."
      ]
    },
    {
      "cell_type": "code",
      "execution_count": 12,
      "id": "0fcc5753-5f1b-4d03-a9ae-8ee11456bd01",
      "metadata": {
        "colab": {
          "base_uri": "https://localhost:8080/"
        },
        "id": "0fcc5753-5f1b-4d03-a9ae-8ee11456bd01",
        "is_executing": true,
        "outputId": "71fa79c6-3240-4f15-cfff-bcb3df882297"
      },
      "outputs": [
        {
          "name": "stdout",
          "output_type": "stream",
          "text": [
            "Booking successful: Microscope booked by Alice from 2024-02-24 04:22:58.807379 to 2024-02-24 06:22:58.807379\n",
            "Requested time slot is not available.\n",
            "Booking successful: Centrifuge booked by Bob from 2024-02-24 04:22:58.807379 to 2024-02-24 06:22:58.807379\n"
          ]
        }
      ],
      "source": [
        "# Пример использования\n",
        "lab = LabEquipment()\n",
        "lab.add_equipment (\"Microscope\")\n",
        "lab.add_equipment (\"Centrifuge\")\n",
        "user1 = User(\"Alice\")\n",
        "user2 = User(\"Bob\")\n",
        "# Успешное бронирование\n",
        "start_time = datetime.now()\n",
        "end_time = start_time + timedelta(hours=2)\n",
        "lab.book(\"Microscope\", user1, start_time, end_time)\n",
        "# Неуспешное бронирование (временной интервал пересекается с предыдущим бронированием)\n",
        "start_time_overlap = start_time + timedelta(hours=1)  # Начинается через час после начала предыдущего бронирования\n",
        "end_time_overlap = start_time_overlap + timedelta(hours=2)\n",
        "try:\n",
        "    lab.book(\"Microscope\", user2, start_time_overlap, end_time_overlap)\n",
        "except ValueError as e:\n",
        "    print(e)\n",
        "# Успешное бронирование другого прибора\n",
        "lab.book(\"Centrifuge\", user2, start_time, end_time)"
      ]
    },
    {
      "cell_type": "markdown",
      "id": "d5713c0c-56ab-4828-b933-97e384969578",
      "metadata": {
        "id": "d5713c0c-56ab-4828-b933-97e384969578"
      },
      "source": [
        "# 2. Интерпретатор генетического кода\n",
        "\n",
        "Здесь вы можете продемонстрировать как работает ваш интерпретатор генетического кода. Не забудьте в последнем примере подобрать такой набор нуклеотидов чтобы напечаталась ваша фамилия."
      ]
    },
    {
      "cell_type": "code",
      "execution_count": 14,
      "id": "e46decf5-9b47-45c8-a48e-d55c0cd69986",
      "metadata": {
        "colab": {
          "base_uri": "https://localhost:8080/",
          "height": 35
        },
        "id": "e46decf5-9b47-45c8-a48e-d55c0cd69986",
        "outputId": "3ea65eb1-8c06-4431-ce4f-53287b60b688"
      },
      "outputs": [
        {
          "data": {
            "application/vnd.google.colaboratory.intrinsic+json": {
              "type": "string"
            },
            "text/plain": [
              "'\\x00'"
            ]
          },
          "execution_count": 14,
          "metadata": {},
          "output_type": "execute_result"
        }
      ],
      "source": [
        "interpreter = GenCodeInterpreter()\n",
        "interpreter.eval('ATGCN')"
      ]
    },
    {
      "cell_type": "code",
      "execution_count": 15,
      "id": "26989e46-af35-499b-a152-20f3f7f89734",
      "metadata": {
        "colab": {
          "base_uri": "https://localhost:8080/",
          "height": 35
        },
        "id": "26989e46-af35-499b-a152-20f3f7f89734",
        "outputId": "93c72768-1da9-43df-892d-405c3fdf1051"
      },
      "outputs": [
        {
          "data": {
            "application/vnd.google.colaboratory.intrinsic+json": {
              "type": "string"
            },
            "text/plain": [
              "'Hi!'"
            ]
          },
          "execution_count": 15,
          "metadata": {},
          "output_type": "execute_result"
        }
      ],
      "source": [
        "interpreter = GenCodeInterpreter()\n",
        "code = 'G'*72 + 'N' + 'G'*33 + 'N' + 'C'*72 + 'N'\n",
        "interpreter.eval(code)"
      ]
    },
    {
      "cell_type": "code",
      "execution_count": 16,
      "id": "ecf4280a-0fa3-46e8-88ba-519834a7f95d",
      "metadata": {
        "colab": {
          "base_uri": "https://localhost:8080/",
          "height": 35
        },
        "id": "ecf4280a-0fa3-46e8-88ba-519834a7f95d",
        "outputId": "085717bd-9622-4c71-90de-5c4375c25c57"
      },
      "outputs": [
        {
          "data": {
            "application/vnd.google.colaboratory.intrinsic+json": {
              "type": "string"
            },
            "text/plain": [
              "'Erofeeva'"
            ]
          },
          "execution_count": 16,
          "metadata": {},
          "output_type": "execute_result"
        }
      ],
      "source": [
        "interpreter = GenCodeInterpreter()\n",
        "code = (\n",
        "    'A' + 'G' * 69 + 'N' +  # 'E'\n",
        "    'A' + 'G' * 114 + 'N' +  # 'r'\n",
        "    'A' + 'G' * 111 + 'N' +  # 'o'\n",
        "    'A' + 'G' * 102 + 'N' +  # 'f'\n",
        "    'A' + 'G' * 101 + 'N' +  # 'e'\n",
        "    'A' + 'G' * 101 + 'N' +  # вторая 'e'\n",
        "    'A' + 'G' * 118 + 'N' +  # 'v'\n",
        "    'A' + 'G' * 97 + 'N'  # 'a'\n",
        ")\n",
        "interpreter.eval(code)"
      ]
    },
    {
      "cell_type": "markdown",
      "id": "4fc75494-33c3-48f5-b2b1-adeaeb2dee75",
      "metadata": {
        "id": "4fc75494-33c3-48f5-b2b1-adeaeb2dee75"
      },
      "source": [
        "# 3. Meet the dunders\n",
        "\n",
        "Проверьте что функция не сломалась"
      ]
    },
    {
      "cell_type": "code",
      "execution_count": 23,
      "id": "a594a672-7138-4301-a4df-d50cc000b032",
      "metadata": {
        "id": "a594a672-7138-4301-a4df-d50cc000b032"
      },
      "outputs": [],
      "source": [
        "assert meet_the_dunders() == 42"
      ]
    },
    {
      "cell_type": "markdown",
      "id": "0b37b58a-dbc7-4dd8-a7aa-c2e0bb1d18ac",
      "metadata": {
        "id": "0b37b58a-dbc7-4dd8-a7aa-c2e0bb1d18ac"
      },
      "source": [
        "# 5. Biological sequences world\n",
        "\n",
        "Приведите пример:\n",
        "- 1 метод который работает с РНК\n",
        "- 1 метод который работает с белками\n",
        "- Какой тип данных возвращает метод `complement` который вызвали на последовательности ДНК"
      ]
    },
    {
      "cell_type": "code",
      "execution_count": 25,
      "id": "767da1e6-76d7-4853-b274-deb21893ce22",
      "metadata": {
        "colab": {
          "base_uri": "https://localhost:8080/"
        },
        "id": "767da1e6-76d7-4853-b274-deb21893ce22",
        "outputId": "1f3f887f-6e50-4517-975a-cf867dc6742e"
      },
      "outputs": [
        {
          "name": "stdout",
          "output_type": "stream",
          "text": [
            "ATGC\n",
            "TACG\n",
            "AUGC\n",
            "AUGC\n",
            "UACG\n",
            "ARND\n",
            "528\n"
          ]
        }
      ],
      "source": [
        "from abc import ABC, abstractmethod\n",
        "\n",
        "class BiologicalSequence(ABC):\n",
        "    def __init__(self, sequence):\n",
        "        self._sequence = sequence\n",
        "\n",
        "    def __len__(self):\n",
        "        return len(self._sequence)\n",
        "\n",
        "    def __getitem__(self, key):\n",
        "        return self._sequence[key]\n",
        "\n",
        "    def __str__(self):\n",
        "        return self._sequence\n",
        "\n",
        "    def __repr__(self):\n",
        "        return f\"{self.__class__.__name__}('{self._sequence}')\"\n",
        "\n",
        "    @abstractmethod\n",
        "    def check_alphabet(self):\n",
        "        pass\n",
        "\n",
        "\n",
        "class NucleicAcidSequence(BiologicalSequence):\n",
        "    def complement(self):\n",
        "        complement_map = str.maketrans(self._complement_map)\n",
        "        return self.__class__(self._sequence.translate(complement_map))\n",
        "\n",
        "    def gc_content(self):\n",
        "        gc_count = self._sequence.count('G') + self._sequence.count('C')\n",
        "        return gc_count / len(self._sequence)\n",
        "\n",
        "\n",
        "class DNASequence(NucleicAcidSequence):\n",
        "    _complement_map = {'A': 'T', 'T': 'A', 'C': 'G', 'G': 'C'}\n",
        "\n",
        "    def check_alphabet(self):\n",
        "        return set(self._sequence.upper()) <= {'A', 'T', 'C', 'G'}\n",
        "\n",
        "    def transcribe(self):\n",
        "        return RNASequence(self._sequence.replace('T', 'U'))\n",
        "\n",
        "\n",
        "class RNASequence(NucleicAcidSequence):\n",
        "    _complement_map = {'A': 'U', 'U': 'A', 'C': 'G', 'G': 'C'}\n",
        "\n",
        "    def check_alphabet(self):\n",
        "        return set(self._sequence.upper()) <= {'A', 'U', 'C', 'G'}\n",
        "\n",
        "\n",
        "class AminoAcidSequence(BiologicalSequence):\n",
        "    def check_alphabet(self):\n",
        "        # Simplified amino acid alphabet check\n",
        "        return set(self._sequence.upper()) <= {'A', 'R', 'N', 'D', 'C', 'E', 'Q', 'G', 'H', 'I', 'L', 'K', 'M', 'F', 'P', 'S', 'T', 'W', 'Y', 'V'}\n",
        "\n",
        "    def molecular_weight(self):\n",
        "        # Simplified example, real molecular weights are different\n",
        "        weight_map = {'A': 89, 'R': 174, 'N': 132, 'D': 133, 'C': 121, 'E': 147, 'Q': 146, 'G': 75, 'H': 155, 'I': 131, 'L': 131, 'K': 146, 'M': 149, 'F': 165, 'P': 115, 'S': 105, 'T': 119, 'W': 204, 'Y': 181, 'V': 117}\n",
        "        return sum(weight_map[aa] for aa in self._sequence)\n",
        "\n",
        "\n",
        "# Примеры\n",
        "dna = DNASequence(\"ATGC\")\n",
        "print(dna)\n",
        "print(dna.complement())\n",
        "print(dna.transcribe())\n",
        "rna = RNASequence(\"AUGC\")\n",
        "print(rna)\n",
        "print(rna.complement())\n",
        "protein = AminoAcidSequence(\"ARND\")\n",
        "print(protein)\n",
        "print(protein.molecular_weight())"
      ]
    }
  ],
  "metadata": {
    "accelerator": "GPU",
    "colab": {
      "gpuType": "T4",
      "provenance": []
    },
    "kernelspec": {
      "display_name": "Python 3",
      "name": "python3"
    },
    "language_info": {
      "name": "python"
    }
  },
  "nbformat": 4,
  "nbformat_minor": 5
}
