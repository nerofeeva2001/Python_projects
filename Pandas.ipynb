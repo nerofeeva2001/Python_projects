{
  "cells": [
    {
      "cell_type": "markdown",
      "id": "bd0bc3cd-cb27-438c-a77f-39b405db3086",
      "metadata": {
        "deletable": false,
        "editable": false,
        "nbgrader": {
          "cell_type": "markdown",
          "checksum": "d070321910ab5340a948ccc8ab1c0d92",
          "grade": false,
          "grade_id": "cell-4d44b9cfed25e148",
          "locked": true,
          "schema_version": 3,
          "solution": false,
          "task": false
        },
        "id": "bd0bc3cd-cb27-438c-a77f-39b405db3086"
      },
      "source": [
        "# <center>  Python for biologists\n",
        "    \n",
        "## Homework 10, Pandas\n",
        "\n",
        "\n",
        "\n",
        "## Правила\n",
        "\n",
        "- **Не создавайте доп. веток в репозитории, не копируйте ноутбук.**\n",
        "- Пишите код только там, где это от вас требуется (`# YOUR CODE HERE`)\n",
        "- Написав, удаляйте `raise NotImplementedError() `\n",
        "- Не переименовывайте переменные, если они уже созданы. Происходят автопроверки.\n",
        "- Под заданием для вас приведены проверки с помощью `assert`. Они падают с ошибкой если решено не правильно и молчат если всё правильно.\n",
        "- Перед отправкой проверьте что ваш ноутбук работает (юпитер-ноутбук). Нажмите на панели сверху `Kernel` -> `Restart Kernel and Run All Cells...`. Проверье что нет ошибок.\n",
        "    \n",
        "\n",
        "#### Погнали!\n",
        "\n",
        "---\n"
      ]
    },
    {
      "cell_type": "code",
      "execution_count": 1,
      "id": "b6fbadf7-974b-4217-9f15-454d2cc2a34d",
      "metadata": {
        "deletable": false,
        "editable": false,
        "nbgrader": {
          "cell_type": "code",
          "checksum": "55454fe39caf9b8f52b5931cb64097d3",
          "grade": false,
          "grade_id": "cell-c39821bd7c23a8c6",
          "locked": true,
          "schema_version": 3,
          "solution": false,
          "task": false
        },
        "tags": [],
        "id": "b6fbadf7-974b-4217-9f15-454d2cc2a34d"
      },
      "outputs": [],
      "source": [
        "import hashlib\n",
        "from IPython.display import display\n",
        "\n",
        "import numpy as np\n",
        "import pandas as pd\n",
        "\n",
        "\n",
        "pd.DataFrame.__hash__ = lambda self: int(\n",
        "    hashlib.sha256(pd.util.hash_pandas_object(self, index=True).values).hexdigest(),\n",
        "    base=16,\n",
        ")\n",
        "pd.core.indexes.base.Index.__hash__ = lambda self: int(\n",
        "    hashlib.sha256(pd.util.hash_pandas_object(self, index=True).values).hexdigest(),\n",
        "    base=16,\n",
        ")\n",
        "pd.Series.__hash__ = lambda self: int(\n",
        "    hashlib.sha256(pd.util.hash_pandas_object(self, index=True).values).hexdigest(),\n",
        "    base=16,\n",
        ")"
      ]
    },
    {
      "cell_type": "markdown",
      "id": "f9fe93ef-9a5a-480a-834b-4e02dca97c46",
      "metadata": {
        "deletable": false,
        "editable": false,
        "nbgrader": {
          "cell_type": "markdown",
          "checksum": "57aee1736ea6b929db87cb3c0141fab2",
          "grade": false,
          "grade_id": "cell-7f4b857d77d7d993",
          "locked": true,
          "schema_version": 3,
          "solution": false,
          "task": false
        },
        "tags": [],
        "id": "f9fe93ef-9a5a-480a-834b-4e02dca97c46"
      },
      "source": [
        "    \n",
        "## I. Обзор дата-фреймов\n",
        "    \n",
        "Здесь будем работать с дата-фреймом `olympics`\n",
        "\n",
        "\n",
        "\n",
        "<a href='https://www.kaggle.com/datasets/heesoo37/120-years-of-olympic-history-athletes-and-results'><img src=\"https://i.ytimg.com/vi/b4wlPz9p4e8/maxresdefault.jpg\" align=\"center\" width=\"500\" ></a>"
      ]
    },
    {
      "cell_type": "code",
      "execution_count": 138,
      "id": "0f66ca02-29da-4bca-863b-c2f6be6fda73",
      "metadata": {
        "deletable": false,
        "editable": false,
        "nbgrader": {
          "cell_type": "code",
          "checksum": "f610859f1f3c70b6cfae57477dd6d9b9",
          "grade": false,
          "grade_id": "cell-a13cd7d7670e026a",
          "locked": true,
          "schema_version": 3,
          "solution": false,
          "task": false
        },
        "tags": [],
        "id": "0f66ca02-29da-4bca-863b-c2f6be6fda73"
      },
      "outputs": [],
      "source": [
        "olympics = pd.read_csv('https://github.com/cleuer/olympics/raw/master/src/main/resources/olympic_history_120_years.csv')"
      ]
    },
    {
      "cell_type": "markdown",
      "id": "5592a260-3342-4878-8085-cfd5104ed8ea",
      "metadata": {
        "deletable": false,
        "editable": false,
        "nbgrader": {
          "cell_type": "markdown",
          "checksum": "782ab2fd44437906021241fa7bb17490",
          "grade": false,
          "grade_id": "cell-424a7f47131d2d55",
          "locked": true,
          "schema_version": 3,
          "solution": false,
          "task": false
        },
        "tags": [],
        "id": "5592a260-3342-4878-8085-cfd5104ed8ea"
      },
      "source": [
        "#### **Задание 1**💅\n",
        "\n",
        "Выведите первые 3 строки дата-фрейма"
      ]
    },
    {
      "cell_type": "code",
      "execution_count": 95,
      "id": "90782e72-5249-46c6-9e80-238fbebab2ac",
      "metadata": {
        "deletable": false,
        "nbgrader": {
          "cell_type": "code",
          "checksum": "ad965ff7b058e81b81b84f925608d990",
          "grade": false,
          "grade_id": "cell-ab35080a2e9048a6",
          "locked": false,
          "schema_version": 3,
          "solution": true,
          "task": false
        },
        "tags": [],
        "colab": {
          "base_uri": "https://localhost:8080/",
          "height": 196
        },
        "id": "90782e72-5249-46c6-9e80-238fbebab2ac",
        "outputId": "1b9298ab-31f8-4ce8-c3c7-32ba77315952"
      },
      "outputs": [
        {
          "output_type": "display_data",
          "data": {
            "text/plain": [
              "   ID                 Name Sex   Age  Height  Weight     Team  NOC  \\\n",
              "0   1            A Dijiang   M  24.0   180.0    80.0    China  CHN   \n",
              "1   2             A Lamusi   M  23.0   170.0    60.0    China  CHN   \n",
              "2   3  Gunnar Nielsen Aaby   M  24.0     NaN     NaN  Denmark  DEN   \n",
              "\n",
              "         Games  Year  Season       City       Sport  \\\n",
              "0  1992 Summer  1992  Summer  Barcelona  Basketball   \n",
              "1  2012 Summer  2012  Summer     London        Judo   \n",
              "2  1920 Summer  1920  Summer  Antwerpen    Football   \n",
              "\n",
              "                          Event Medal  \n",
              "0   Basketball Men's Basketball   NaN  \n",
              "1  Judo Men's Extra-Lightweight   NaN  \n",
              "2       Football Men's Football   NaN  "
            ],
            "text/html": [
              "\n",
              "  <div id=\"df-c9479f9a-0cb6-4c40-91a2-d115d1072c38\" class=\"colab-df-container\">\n",
              "    <div>\n",
              "<style scoped>\n",
              "    .dataframe tbody tr th:only-of-type {\n",
              "        vertical-align: middle;\n",
              "    }\n",
              "\n",
              "    .dataframe tbody tr th {\n",
              "        vertical-align: top;\n",
              "    }\n",
              "\n",
              "    .dataframe thead th {\n",
              "        text-align: right;\n",
              "    }\n",
              "</style>\n",
              "<table border=\"1\" class=\"dataframe\">\n",
              "  <thead>\n",
              "    <tr style=\"text-align: right;\">\n",
              "      <th></th>\n",
              "      <th>ID</th>\n",
              "      <th>Name</th>\n",
              "      <th>Sex</th>\n",
              "      <th>Age</th>\n",
              "      <th>Height</th>\n",
              "      <th>Weight</th>\n",
              "      <th>Team</th>\n",
              "      <th>NOC</th>\n",
              "      <th>Games</th>\n",
              "      <th>Year</th>\n",
              "      <th>Season</th>\n",
              "      <th>City</th>\n",
              "      <th>Sport</th>\n",
              "      <th>Event</th>\n",
              "      <th>Medal</th>\n",
              "    </tr>\n",
              "  </thead>\n",
              "  <tbody>\n",
              "    <tr>\n",
              "      <th>0</th>\n",
              "      <td>1</td>\n",
              "      <td>A Dijiang</td>\n",
              "      <td>M</td>\n",
              "      <td>24.0</td>\n",
              "      <td>180.0</td>\n",
              "      <td>80.0</td>\n",
              "      <td>China</td>\n",
              "      <td>CHN</td>\n",
              "      <td>1992 Summer</td>\n",
              "      <td>1992</td>\n",
              "      <td>Summer</td>\n",
              "      <td>Barcelona</td>\n",
              "      <td>Basketball</td>\n",
              "      <td>Basketball Men's Basketball</td>\n",
              "      <td>NaN</td>\n",
              "    </tr>\n",
              "    <tr>\n",
              "      <th>1</th>\n",
              "      <td>2</td>\n",
              "      <td>A Lamusi</td>\n",
              "      <td>M</td>\n",
              "      <td>23.0</td>\n",
              "      <td>170.0</td>\n",
              "      <td>60.0</td>\n",
              "      <td>China</td>\n",
              "      <td>CHN</td>\n",
              "      <td>2012 Summer</td>\n",
              "      <td>2012</td>\n",
              "      <td>Summer</td>\n",
              "      <td>London</td>\n",
              "      <td>Judo</td>\n",
              "      <td>Judo Men's Extra-Lightweight</td>\n",
              "      <td>NaN</td>\n",
              "    </tr>\n",
              "    <tr>\n",
              "      <th>2</th>\n",
              "      <td>3</td>\n",
              "      <td>Gunnar Nielsen Aaby</td>\n",
              "      <td>M</td>\n",
              "      <td>24.0</td>\n",
              "      <td>NaN</td>\n",
              "      <td>NaN</td>\n",
              "      <td>Denmark</td>\n",
              "      <td>DEN</td>\n",
              "      <td>1920 Summer</td>\n",
              "      <td>1920</td>\n",
              "      <td>Summer</td>\n",
              "      <td>Antwerpen</td>\n",
              "      <td>Football</td>\n",
              "      <td>Football Men's Football</td>\n",
              "      <td>NaN</td>\n",
              "    </tr>\n",
              "  </tbody>\n",
              "</table>\n",
              "</div>\n",
              "    <div class=\"colab-df-buttons\">\n",
              "\n",
              "  <div class=\"colab-df-container\">\n",
              "    <button class=\"colab-df-convert\" onclick=\"convertToInteractive('df-c9479f9a-0cb6-4c40-91a2-d115d1072c38')\"\n",
              "            title=\"Convert this dataframe to an interactive table.\"\n",
              "            style=\"display:none;\">\n",
              "\n",
              "  <svg xmlns=\"http://www.w3.org/2000/svg\" height=\"24px\" viewBox=\"0 -960 960 960\">\n",
              "    <path d=\"M120-120v-720h720v720H120Zm60-500h600v-160H180v160Zm220 220h160v-160H400v160Zm0 220h160v-160H400v160ZM180-400h160v-160H180v160Zm440 0h160v-160H620v160ZM180-180h160v-160H180v160Zm440 0h160v-160H620v160Z\"/>\n",
              "  </svg>\n",
              "    </button>\n",
              "\n",
              "  <style>\n",
              "    .colab-df-container {\n",
              "      display:flex;\n",
              "      gap: 12px;\n",
              "    }\n",
              "\n",
              "    .colab-df-convert {\n",
              "      background-color: #E8F0FE;\n",
              "      border: none;\n",
              "      border-radius: 50%;\n",
              "      cursor: pointer;\n",
              "      display: none;\n",
              "      fill: #1967D2;\n",
              "      height: 32px;\n",
              "      padding: 0 0 0 0;\n",
              "      width: 32px;\n",
              "    }\n",
              "\n",
              "    .colab-df-convert:hover {\n",
              "      background-color: #E2EBFA;\n",
              "      box-shadow: 0px 1px 2px rgba(60, 64, 67, 0.3), 0px 1px 3px 1px rgba(60, 64, 67, 0.15);\n",
              "      fill: #174EA6;\n",
              "    }\n",
              "\n",
              "    .colab-df-buttons div {\n",
              "      margin-bottom: 4px;\n",
              "    }\n",
              "\n",
              "    [theme=dark] .colab-df-convert {\n",
              "      background-color: #3B4455;\n",
              "      fill: #D2E3FC;\n",
              "    }\n",
              "\n",
              "    [theme=dark] .colab-df-convert:hover {\n",
              "      background-color: #434B5C;\n",
              "      box-shadow: 0px 1px 3px 1px rgba(0, 0, 0, 0.15);\n",
              "      filter: drop-shadow(0px 1px 2px rgba(0, 0, 0, 0.3));\n",
              "      fill: #FFFFFF;\n",
              "    }\n",
              "  </style>\n",
              "\n",
              "    <script>\n",
              "      const buttonEl =\n",
              "        document.querySelector('#df-c9479f9a-0cb6-4c40-91a2-d115d1072c38 button.colab-df-convert');\n",
              "      buttonEl.style.display =\n",
              "        google.colab.kernel.accessAllowed ? 'block' : 'none';\n",
              "\n",
              "      async function convertToInteractive(key) {\n",
              "        const element = document.querySelector('#df-c9479f9a-0cb6-4c40-91a2-d115d1072c38');\n",
              "        const dataTable =\n",
              "          await google.colab.kernel.invokeFunction('convertToInteractive',\n",
              "                                                    [key], {});\n",
              "        if (!dataTable) return;\n",
              "\n",
              "        const docLinkHtml = 'Like what you see? Visit the ' +\n",
              "          '<a target=\"_blank\" href=https://colab.research.google.com/notebooks/data_table.ipynb>data table notebook</a>'\n",
              "          + ' to learn more about interactive tables.';\n",
              "        element.innerHTML = '';\n",
              "        dataTable['output_type'] = 'display_data';\n",
              "        await google.colab.output.renderOutput(dataTable, element);\n",
              "        const docLink = document.createElement('div');\n",
              "        docLink.innerHTML = docLinkHtml;\n",
              "        element.appendChild(docLink);\n",
              "      }\n",
              "    </script>\n",
              "  </div>\n",
              "\n",
              "\n",
              "<div id=\"df-427bfece-c229-42e7-a7e3-c11af1d891d5\">\n",
              "  <button class=\"colab-df-quickchart\" onclick=\"quickchart('df-427bfece-c229-42e7-a7e3-c11af1d891d5')\"\n",
              "            title=\"Suggest charts\"\n",
              "            style=\"display:none;\">\n",
              "\n",
              "<svg xmlns=\"http://www.w3.org/2000/svg\" height=\"24px\"viewBox=\"0 0 24 24\"\n",
              "     width=\"24px\">\n",
              "    <g>\n",
              "        <path d=\"M19 3H5c-1.1 0-2 .9-2 2v14c0 1.1.9 2 2 2h14c1.1 0 2-.9 2-2V5c0-1.1-.9-2-2-2zM9 17H7v-7h2v7zm4 0h-2V7h2v10zm4 0h-2v-4h2v4z\"/>\n",
              "    </g>\n",
              "</svg>\n",
              "  </button>\n",
              "\n",
              "<style>\n",
              "  .colab-df-quickchart {\n",
              "      --bg-color: #E8F0FE;\n",
              "      --fill-color: #1967D2;\n",
              "      --hover-bg-color: #E2EBFA;\n",
              "      --hover-fill-color: #174EA6;\n",
              "      --disabled-fill-color: #AAA;\n",
              "      --disabled-bg-color: #DDD;\n",
              "  }\n",
              "\n",
              "  [theme=dark] .colab-df-quickchart {\n",
              "      --bg-color: #3B4455;\n",
              "      --fill-color: #D2E3FC;\n",
              "      --hover-bg-color: #434B5C;\n",
              "      --hover-fill-color: #FFFFFF;\n",
              "      --disabled-bg-color: #3B4455;\n",
              "      --disabled-fill-color: #666;\n",
              "  }\n",
              "\n",
              "  .colab-df-quickchart {\n",
              "    background-color: var(--bg-color);\n",
              "    border: none;\n",
              "    border-radius: 50%;\n",
              "    cursor: pointer;\n",
              "    display: none;\n",
              "    fill: var(--fill-color);\n",
              "    height: 32px;\n",
              "    padding: 0;\n",
              "    width: 32px;\n",
              "  }\n",
              "\n",
              "  .colab-df-quickchart:hover {\n",
              "    background-color: var(--hover-bg-color);\n",
              "    box-shadow: 0 1px 2px rgba(60, 64, 67, 0.3), 0 1px 3px 1px rgba(60, 64, 67, 0.15);\n",
              "    fill: var(--button-hover-fill-color);\n",
              "  }\n",
              "\n",
              "  .colab-df-quickchart-complete:disabled,\n",
              "  .colab-df-quickchart-complete:disabled:hover {\n",
              "    background-color: var(--disabled-bg-color);\n",
              "    fill: var(--disabled-fill-color);\n",
              "    box-shadow: none;\n",
              "  }\n",
              "\n",
              "  .colab-df-spinner {\n",
              "    border: 2px solid var(--fill-color);\n",
              "    border-color: transparent;\n",
              "    border-bottom-color: var(--fill-color);\n",
              "    animation:\n",
              "      spin 1s steps(1) infinite;\n",
              "  }\n",
              "\n",
              "  @keyframes spin {\n",
              "    0% {\n",
              "      border-color: transparent;\n",
              "      border-bottom-color: var(--fill-color);\n",
              "      border-left-color: var(--fill-color);\n",
              "    }\n",
              "    20% {\n",
              "      border-color: transparent;\n",
              "      border-left-color: var(--fill-color);\n",
              "      border-top-color: var(--fill-color);\n",
              "    }\n",
              "    30% {\n",
              "      border-color: transparent;\n",
              "      border-left-color: var(--fill-color);\n",
              "      border-top-color: var(--fill-color);\n",
              "      border-right-color: var(--fill-color);\n",
              "    }\n",
              "    40% {\n",
              "      border-color: transparent;\n",
              "      border-right-color: var(--fill-color);\n",
              "      border-top-color: var(--fill-color);\n",
              "    }\n",
              "    60% {\n",
              "      border-color: transparent;\n",
              "      border-right-color: var(--fill-color);\n",
              "    }\n",
              "    80% {\n",
              "      border-color: transparent;\n",
              "      border-right-color: var(--fill-color);\n",
              "      border-bottom-color: var(--fill-color);\n",
              "    }\n",
              "    90% {\n",
              "      border-color: transparent;\n",
              "      border-bottom-color: var(--fill-color);\n",
              "    }\n",
              "  }\n",
              "</style>\n",
              "\n",
              "  <script>\n",
              "    async function quickchart(key) {\n",
              "      const quickchartButtonEl =\n",
              "        document.querySelector('#' + key + ' button');\n",
              "      quickchartButtonEl.disabled = true;  // To prevent multiple clicks.\n",
              "      quickchartButtonEl.classList.add('colab-df-spinner');\n",
              "      try {\n",
              "        const charts = await google.colab.kernel.invokeFunction(\n",
              "            'suggestCharts', [key], {});\n",
              "      } catch (error) {\n",
              "        console.error('Error during call to suggestCharts:', error);\n",
              "      }\n",
              "      quickchartButtonEl.classList.remove('colab-df-spinner');\n",
              "      quickchartButtonEl.classList.add('colab-df-quickchart-complete');\n",
              "    }\n",
              "    (() => {\n",
              "      let quickchartButtonEl =\n",
              "        document.querySelector('#df-427bfece-c229-42e7-a7e3-c11af1d891d5 button');\n",
              "      quickchartButtonEl.style.display =\n",
              "        google.colab.kernel.accessAllowed ? 'block' : 'none';\n",
              "    })();\n",
              "  </script>\n",
              "</div>\n",
              "    </div>\n",
              "  </div>\n"
            ]
          },
          "metadata": {}
        }
      ],
      "source": [
        "result = olympics.head(3)\n",
        "display(result)"
      ]
    },
    {
      "cell_type": "code",
      "execution_count": 4,
      "id": "c4f5b263-d7aa-4134-887a-1a69b450df42",
      "metadata": {
        "deletable": false,
        "editable": false,
        "nbgrader": {
          "cell_type": "code",
          "checksum": "c0281aee1ee6344b3452f42335fcc315",
          "grade": true,
          "grade_id": "cell-873f721b66636c4f",
          "locked": true,
          "points": 6,
          "schema_version": 3,
          "solution": false,
          "task": false
        },
        "tags": [],
        "id": "c4f5b263-d7aa-4134-887a-1a69b450df42"
      },
      "outputs": [],
      "source": [
        "assert len(result) == 3\n",
        "assert isinstance(result, pd.core.frame.DataFrame)\n",
        "assert hash(result) == 507558853293347520"
      ]
    },
    {
      "cell_type": "markdown",
      "id": "f2c6012a-7516-4d30-a94f-b6464d4992e9",
      "metadata": {
        "deletable": false,
        "editable": false,
        "nbgrader": {
          "cell_type": "markdown",
          "checksum": "abf57a53c51bc659e4ebd40e5b499936",
          "grade": false,
          "grade_id": "cell-451dbfcd5fd09281",
          "locked": true,
          "schema_version": 3,
          "solution": false,
          "task": false
        },
        "tags": [],
        "id": "f2c6012a-7516-4d30-a94f-b6464d4992e9"
      },
      "source": [
        "#### **Задание 2** 💅\n",
        "\n",
        "Выведите названия всех колонок в дата-фрейме"
      ]
    },
    {
      "cell_type": "code",
      "execution_count": 96,
      "id": "ed3b1db6-ddcf-4e46-8e2d-872485c285b2",
      "metadata": {
        "deletable": false,
        "nbgrader": {
          "cell_type": "code",
          "checksum": "27266a224e9f534b80be4573654a7dab",
          "grade": false,
          "grade_id": "cell-d768c26023eca51a",
          "locked": false,
          "schema_version": 3,
          "solution": true,
          "task": false
        },
        "tags": [],
        "colab": {
          "base_uri": "https://localhost:8080/",
          "height": 69
        },
        "id": "ed3b1db6-ddcf-4e46-8e2d-872485c285b2",
        "outputId": "03e6b554-a6f3-4f8a-b852-05e84d33a360"
      },
      "outputs": [
        {
          "output_type": "display_data",
          "data": {
            "text/plain": [
              "Index(['ID', 'Name', 'Sex', 'Age', 'Height', 'Weight', 'Team', 'NOC', 'Games',\n",
              "       'Year', 'Season', 'City', 'Sport', 'Event', 'Medal'],\n",
              "      dtype='object')"
            ]
          },
          "metadata": {}
        }
      ],
      "source": [
        "result = olympics.columns\n",
        "display(result)"
      ]
    },
    {
      "cell_type": "code",
      "execution_count": 6,
      "id": "ef0101bf-b967-467d-9d79-ed660ec6a40b",
      "metadata": {
        "deletable": false,
        "editable": false,
        "nbgrader": {
          "cell_type": "code",
          "checksum": "13afb7d2c2b25c52fe8bde4b7c599c92",
          "grade": true,
          "grade_id": "cell-2b41e359eda9ca22",
          "locked": true,
          "points": 6,
          "schema_version": 3,
          "solution": false,
          "task": false
        },
        "tags": [],
        "id": "ef0101bf-b967-467d-9d79-ed660ec6a40b"
      },
      "outputs": [],
      "source": [
        "assert len(result) == 15\n",
        "assert isinstance(result, pd.core.indexes.base.Index)\n",
        "assert hash(result) == 204161812668953242"
      ]
    },
    {
      "cell_type": "markdown",
      "id": "b79f940b-37dc-4377-8806-7f1ff95f919a",
      "metadata": {
        "deletable": false,
        "editable": false,
        "nbgrader": {
          "cell_type": "markdown",
          "checksum": "e8d3e93c38155858c31469976d49d169",
          "grade": false,
          "grade_id": "cell-d6f6b928964bc9a4",
          "locked": true,
          "schema_version": 3,
          "solution": false,
          "task": false
        },
        "tags": [],
        "id": "b79f940b-37dc-4377-8806-7f1ff95f919a"
      },
      "source": [
        "#### **Задание 3** 💅\n",
        "\n",
        "Сколько колонок имеют `ei` в имени?"
      ]
    },
    {
      "cell_type": "code",
      "execution_count": 97,
      "id": "f00b157a-51ec-4c8a-9bf7-8f80a7d4d191",
      "metadata": {
        "deletable": false,
        "nbgrader": {
          "cell_type": "code",
          "checksum": "ba294614a9512a8ec01fe1c9036dd666",
          "grade": false,
          "grade_id": "cell-6934c096c3e74b5c",
          "locked": false,
          "schema_version": 3,
          "solution": true,
          "task": false
        },
        "tags": [],
        "id": "f00b157a-51ec-4c8a-9bf7-8f80a7d4d191"
      },
      "outputs": [],
      "source": [
        "result = sum('ei' in col for col in olympics.columns)"
      ]
    },
    {
      "cell_type": "code",
      "execution_count": 8,
      "id": "e35b2369-43cb-4ae1-a97a-7f5d46d1d6b6",
      "metadata": {
        "deletable": false,
        "editable": false,
        "nbgrader": {
          "cell_type": "code",
          "checksum": "9af126d810cdc24fef52128306ae2e55",
          "grade": true,
          "grade_id": "cell-ddfab69579023526",
          "locked": true,
          "points": 6,
          "schema_version": 3,
          "solution": false,
          "task": false
        },
        "tags": [],
        "id": "e35b2369-43cb-4ae1-a97a-7f5d46d1d6b6"
      },
      "outputs": [],
      "source": [
        "assert result == 2"
      ]
    },
    {
      "cell_type": "markdown",
      "id": "0cd51eae-7cde-4adb-b592-ccdabae83440",
      "metadata": {
        "deletable": false,
        "editable": false,
        "nbgrader": {
          "cell_type": "markdown",
          "checksum": "83501de38a7982f67b6002326767525b",
          "grade": false,
          "grade_id": "cell-1eda368d429f6ab1",
          "locked": true,
          "schema_version": 3,
          "solution": false,
          "task": false
        },
        "tags": [],
        "id": "0cd51eae-7cde-4adb-b592-ccdabae83440"
      },
      "source": [
        "#### **Задание 4** 💅\n",
        "\n",
        "Выведите размерность дата-фрейма"
      ]
    },
    {
      "cell_type": "code",
      "execution_count": 98,
      "id": "9dc0fb70-5e54-4ab9-8b17-fd4894989f9d",
      "metadata": {
        "deletable": false,
        "nbgrader": {
          "cell_type": "code",
          "checksum": "06df36aff531e5586aaab60bd4b8ff51",
          "grade": false,
          "grade_id": "cell-668ba69fb6c560ba",
          "locked": false,
          "schema_version": 3,
          "solution": true,
          "task": false
        },
        "tags": [],
        "id": "9dc0fb70-5e54-4ab9-8b17-fd4894989f9d"
      },
      "outputs": [],
      "source": [
        "result = olympics.shape"
      ]
    },
    {
      "cell_type": "code",
      "execution_count": 10,
      "id": "81dd803c-fcd8-4345-8ac6-9738ca51c23d",
      "metadata": {
        "deletable": false,
        "editable": false,
        "nbgrader": {
          "cell_type": "code",
          "checksum": "47775cc051a3ddce4406849c20a1ce03",
          "grade": true,
          "grade_id": "cell-be550edcb21a63b3",
          "locked": true,
          "points": 6,
          "schema_version": 3,
          "solution": false,
          "task": false
        },
        "tags": [],
        "id": "81dd803c-fcd8-4345-8ac6-9738ca51c23d"
      },
      "outputs": [],
      "source": [
        "assert result == (271116, 15)"
      ]
    },
    {
      "cell_type": "markdown",
      "id": "48cc597b-f82e-4ece-99bb-435da97eae57",
      "metadata": {
        "deletable": false,
        "editable": false,
        "nbgrader": {
          "cell_type": "markdown",
          "checksum": "d9cf34b68b7322718d0029e17f1d3aed",
          "grade": false,
          "grade_id": "cell-9d691e8818df17cd",
          "locked": true,
          "schema_version": 3,
          "solution": false,
          "task": false
        },
        "tags": [],
        "id": "48cc597b-f82e-4ece-99bb-435da97eae57"
      },
      "source": [
        "#### **Задание 5** 💅\n",
        "\n",
        "Выведите количество NA в колонке `Weight`"
      ]
    },
    {
      "cell_type": "code",
      "execution_count": 99,
      "id": "15a53184-d54b-4b5b-9955-f3d19ad4ced5",
      "metadata": {
        "deletable": false,
        "nbgrader": {
          "cell_type": "code",
          "checksum": "53f8dc99f5e4ea9a605af6ee839b0ac8",
          "grade": false,
          "grade_id": "cell-f898b04d5add337c",
          "locked": false,
          "schema_version": 3,
          "solution": true,
          "task": false
        },
        "tags": [],
        "id": "15a53184-d54b-4b5b-9955-f3d19ad4ced5"
      },
      "outputs": [],
      "source": [
        "result = olympics['Weight'].isna().sum()"
      ]
    },
    {
      "cell_type": "code",
      "execution_count": 12,
      "id": "388209bc-f1a3-4058-8a88-734e057b7080",
      "metadata": {
        "deletable": false,
        "editable": false,
        "nbgrader": {
          "cell_type": "code",
          "checksum": "d5a9021f7c808f3d918f2436085cc23c",
          "grade": true,
          "grade_id": "cell-a44d67999446b676",
          "locked": true,
          "points": 6,
          "schema_version": 3,
          "solution": false,
          "task": false
        },
        "tags": [],
        "id": "388209bc-f1a3-4058-8a88-734e057b7080"
      },
      "outputs": [],
      "source": [
        "assert result == 62875"
      ]
    },
    {
      "cell_type": "markdown",
      "id": "02165a47-a8d4-4388-93fd-6f9f59c1a42f",
      "metadata": {
        "deletable": false,
        "editable": false,
        "nbgrader": {
          "cell_type": "markdown",
          "checksum": "9b3ce753bc584e622f4ed8b5de3179bc",
          "grade": false,
          "grade_id": "cell-225934343e29b955",
          "locked": true,
          "schema_version": 3,
          "solution": false,
          "task": false
        },
        "tags": [],
        "id": "02165a47-a8d4-4388-93fd-6f9f59c1a42f"
      },
      "source": [
        "#### **Задание 6** 💅\n",
        "\n",
        "Выведите количество уникальных значений в колонке `Weight` (для этого есть отдельный метод)"
      ]
    },
    {
      "cell_type": "code",
      "execution_count": 100,
      "id": "9403a061-5c98-49ee-a32a-cca2b4191f5a",
      "metadata": {
        "deletable": false,
        "nbgrader": {
          "cell_type": "code",
          "checksum": "a4d382d65c288643ba5e4cb7069f4ac7",
          "grade": false,
          "grade_id": "cell-67eef977740fff91",
          "locked": false,
          "schema_version": 3,
          "solution": true,
          "task": false
        },
        "tags": [],
        "id": "9403a061-5c98-49ee-a32a-cca2b4191f5a"
      },
      "outputs": [],
      "source": [
        "result = olympics['Weight'].nunique()"
      ]
    },
    {
      "cell_type": "code",
      "execution_count": 14,
      "id": "e8a2c4c6-e58b-4e5d-9fc7-f26257830e29",
      "metadata": {
        "deletable": false,
        "editable": false,
        "nbgrader": {
          "cell_type": "code",
          "checksum": "3b6e6f5d4cb8eca3f771637a8f98fea4",
          "grade": true,
          "grade_id": "cell-c07cf06841b24e90",
          "locked": true,
          "points": 6,
          "schema_version": 3,
          "solution": false,
          "task": false
        },
        "tags": [],
        "id": "e8a2c4c6-e58b-4e5d-9fc7-f26257830e29"
      },
      "outputs": [],
      "source": [
        "assert result == 220"
      ]
    },
    {
      "cell_type": "markdown",
      "id": "4fe5c61a-ff6c-4adb-950e-c4f6ec2f8dbd",
      "metadata": {
        "deletable": false,
        "editable": false,
        "nbgrader": {
          "cell_type": "markdown",
          "checksum": "f25873b3f09cb9a2c6acc256d1d00a9c",
          "grade": false,
          "grade_id": "cell-dd7a8d27a0cb32dd",
          "locked": true,
          "schema_version": 3,
          "solution": false,
          "task": false
        },
        "tags": [],
        "id": "4fe5c61a-ff6c-4adb-950e-c4f6ec2f8dbd"
      },
      "source": [
        "#### **Задание 7** 💅\n",
        "\n",
        "Выведите самое часто-встречаемое значение в колонке `Weight`"
      ]
    },
    {
      "cell_type": "code",
      "execution_count": 101,
      "id": "5e022624-be37-4f40-952d-2f7800c8a4fb",
      "metadata": {
        "deletable": false,
        "nbgrader": {
          "cell_type": "code",
          "checksum": "0373f2276dc6ee2d325ed8854bdab6f7",
          "grade": false,
          "grade_id": "cell-f907531ee4535156",
          "locked": false,
          "schema_version": 3,
          "solution": true,
          "task": false
        },
        "tags": [],
        "id": "5e022624-be37-4f40-952d-2f7800c8a4fb"
      },
      "outputs": [],
      "source": [
        "result = olympics['Weight'].mode()[0]"
      ]
    },
    {
      "cell_type": "code",
      "execution_count": 16,
      "id": "83e56e38-2762-4d29-9e3c-3ade38d5ecb4",
      "metadata": {
        "deletable": false,
        "editable": false,
        "nbgrader": {
          "cell_type": "code",
          "checksum": "a0902aab7850dab45f2dca72b7bff28c",
          "grade": true,
          "grade_id": "cell-26974fc6eabd9367",
          "locked": true,
          "points": 7,
          "schema_version": 3,
          "solution": false,
          "task": false
        },
        "tags": [],
        "id": "83e56e38-2762-4d29-9e3c-3ade38d5ecb4"
      },
      "outputs": [],
      "source": [
        "assert result == 70.0"
      ]
    },
    {
      "cell_type": "markdown",
      "id": "eaa428a0-33f2-42d1-a0c5-709bbd813b1d",
      "metadata": {
        "deletable": false,
        "editable": false,
        "nbgrader": {
          "cell_type": "markdown",
          "checksum": "38ee7659f51f15bee9a2339e731cf103",
          "grade": false,
          "grade_id": "cell-1629c28267d6aa97",
          "locked": true,
          "schema_version": 3,
          "solution": false,
          "task": false
        },
        "tags": [],
        "id": "eaa428a0-33f2-42d1-a0c5-709bbd813b1d"
      },
      "source": [
        "#### **Задание 8** 💅\n",
        "\n",
        "Выведите максимальное значение в колонке `Weight`"
      ]
    },
    {
      "cell_type": "code",
      "execution_count": 102,
      "id": "0208f419-6353-4183-9b59-1ff4025d1559",
      "metadata": {
        "deletable": false,
        "nbgrader": {
          "cell_type": "code",
          "checksum": "ef71e1007b7c0ed8abbb2bbe26831859",
          "grade": false,
          "grade_id": "cell-ac65ec8f2cb1b4c2",
          "locked": false,
          "schema_version": 3,
          "solution": true,
          "task": false
        },
        "tags": [],
        "id": "0208f419-6353-4183-9b59-1ff4025d1559"
      },
      "outputs": [],
      "source": [
        "result = olympics['Weight'].max()"
      ]
    },
    {
      "cell_type": "code",
      "execution_count": 21,
      "id": "ae86c0be-2742-46df-bd78-fba49bdd7b3c",
      "metadata": {
        "deletable": false,
        "editable": false,
        "nbgrader": {
          "cell_type": "code",
          "checksum": "41ed79dfecd6f7baf8be39c46eaa06c2",
          "grade": true,
          "grade_id": "cell-f07bd80efe8c4683",
          "locked": true,
          "points": 6,
          "schema_version": 3,
          "solution": false,
          "task": false
        },
        "tags": [],
        "id": "ae86c0be-2742-46df-bd78-fba49bdd7b3c"
      },
      "outputs": [],
      "source": [
        "assert result == 214.0"
      ]
    },
    {
      "cell_type": "markdown",
      "id": "40a7c25f-1e69-4db1-843f-64e4773001b8",
      "metadata": {
        "deletable": false,
        "editable": false,
        "nbgrader": {
          "cell_type": "markdown",
          "checksum": "68db02a2f33105ef73e959d173093011",
          "grade": false,
          "grade_id": "cell-9e1dbfe91d2351d8",
          "locked": true,
          "schema_version": 3,
          "solution": false,
          "task": false
        },
        "tags": [],
        "id": "40a7c25f-1e69-4db1-843f-64e4773001b8"
      },
      "source": [
        "#### **Задание 9** 💅\n",
        "\n",
        "Сколько колонок в дата-фрейме имеют тип данных `float64`?"
      ]
    },
    {
      "cell_type": "code",
      "execution_count": 103,
      "id": "e616e1fb-d666-41aa-aa4b-ea714cae04d9",
      "metadata": {
        "deletable": false,
        "nbgrader": {
          "cell_type": "code",
          "checksum": "1fde71b570690ff79a3b4230e42b6200",
          "grade": false,
          "grade_id": "cell-7b0bad4973d7cece",
          "locked": false,
          "schema_version": 3,
          "solution": true,
          "task": false
        },
        "tags": [],
        "id": "e616e1fb-d666-41aa-aa4b-ea714cae04d9"
      },
      "outputs": [],
      "source": [
        "result = (olympics.dtypes == 'float64').sum()"
      ]
    },
    {
      "cell_type": "code",
      "execution_count": 23,
      "id": "c3a0a712-88ef-47b2-be6d-6eb05c336234",
      "metadata": {
        "deletable": false,
        "editable": false,
        "nbgrader": {
          "cell_type": "code",
          "checksum": "88f9d233fa31d4eb2ab820d8175a4656",
          "grade": true,
          "grade_id": "cell-abadae734e5ea344",
          "locked": true,
          "points": 6,
          "schema_version": 3,
          "solution": false,
          "task": false
        },
        "tags": [],
        "id": "c3a0a712-88ef-47b2-be6d-6eb05c336234"
      },
      "outputs": [],
      "source": [
        "assert result == 3"
      ]
    },
    {
      "cell_type": "markdown",
      "id": "6e600c66-8cf0-4cec-942c-d0b95d80802e",
      "metadata": {
        "deletable": false,
        "editable": false,
        "nbgrader": {
          "cell_type": "markdown",
          "checksum": "4aa8ca457474d361e17c84e517c47ec9",
          "grade": false,
          "grade_id": "cell-aad5a256dc4829cb",
          "locked": true,
          "schema_version": 3,
          "solution": false,
          "task": false
        },
        "tags": [],
        "id": "6e600c66-8cf0-4cec-942c-d0b95d80802e"
      },
      "source": [
        "## II. Отбор данных"
      ]
    },
    {
      "cell_type": "markdown",
      "id": "cc5516cb-d53a-4e71-97bc-39b10d3725f8",
      "metadata": {
        "deletable": false,
        "editable": false,
        "nbgrader": {
          "cell_type": "markdown",
          "checksum": "3392013458527adf837e2cc48a4b79f0",
          "grade": false,
          "grade_id": "cell-3ead0f41d9e91aeb",
          "locked": true,
          "schema_version": 3,
          "solution": false,
          "task": false
        },
        "tags": [],
        "id": "cc5516cb-d53a-4e71-97bc-39b10d3725f8"
      },
      "source": [
        "#### **Задание 10** 💅\n",
        "\n",
        "Как зовут атлета в `140228`й по счету строке дата-фрейма?"
      ]
    },
    {
      "cell_type": "code",
      "execution_count": 125,
      "id": "53c6c0b3-2cc1-4b04-a668-eada67395edf",
      "metadata": {
        "deletable": false,
        "nbgrader": {
          "cell_type": "code",
          "checksum": "fcc4fad8019958459ad8ffd6e80adcd4",
          "grade": false,
          "grade_id": "cell-f74eca2eece9e447",
          "locked": false,
          "schema_version": 3,
          "solution": true,
          "task": false
        },
        "tags": [],
        "colab": {
          "base_uri": "https://localhost:8080/",
          "height": 35
        },
        "id": "53c6c0b3-2cc1-4b04-a668-eada67395edf",
        "outputId": "8b6690e1-634a-4328-9752-d20268132bfe"
      },
      "outputs": [
        {
          "output_type": "execute_result",
          "data": {
            "text/plain": [
              "'Yuliya Vyacheslavovna Lipnitskaya'"
            ],
            "application/vnd.google.colaboratory.intrinsic+json": {
              "type": "string"
            }
          },
          "metadata": {},
          "execution_count": 125
        }
      ],
      "source": [
        "result = olympics.iloc[140227]['Name']"
      ]
    },
    {
      "cell_type": "code",
      "execution_count": 25,
      "id": "43d26f5b-a2ee-4368-a3f5-0d8509c99ae7",
      "metadata": {
        "deletable": false,
        "editable": false,
        "nbgrader": {
          "cell_type": "code",
          "checksum": "976fa1bdcb1ca9b49ff022625bdaf3e4",
          "grade": true,
          "grade_id": "cell-b16cb22b21275ceb",
          "locked": true,
          "points": 6,
          "schema_version": 3,
          "solution": false,
          "task": false
        },
        "tags": [],
        "id": "43d26f5b-a2ee-4368-a3f5-0d8509c99ae7"
      },
      "outputs": [],
      "source": [
        "assert result == 'Yuliya Vyacheslavovna Lipnitskaya'"
      ]
    },
    {
      "cell_type": "markdown",
      "id": "d92f72f8-4dc1-4cd6-ad63-75da029dc205",
      "metadata": {
        "deletable": false,
        "editable": false,
        "nbgrader": {
          "cell_type": "markdown",
          "checksum": "5a500fbd923d311fa4de2638c845c7f1",
          "grade": false,
          "grade_id": "cell-2faf99d7a3335c9c",
          "locked": true,
          "schema_version": 3,
          "solution": false,
          "task": false
        },
        "tags": [],
        "id": "d92f72f8-4dc1-4cd6-ad63-75da029dc205"
      },
      "source": [
        "#### **Задание 11** 💅\n",
        "\n",
        "В каком городе проходили игры, запись с которых сделана в строке с индексом 360?"
      ]
    },
    {
      "cell_type": "code",
      "execution_count": 105,
      "id": "fccc7684-11cd-4752-a3a3-f4d5979c1199",
      "metadata": {
        "deletable": false,
        "nbgrader": {
          "cell_type": "code",
          "checksum": "f850c75cd7d0af7d0df7570b86604e68",
          "grade": false,
          "grade_id": "cell-79e9e4f0c86bdd16",
          "locked": false,
          "schema_version": 3,
          "solution": true,
          "task": false
        },
        "tags": [],
        "id": "fccc7684-11cd-4752-a3a3-f4d5979c1199"
      },
      "outputs": [],
      "source": [
        "result = olympics.iloc[360]['City']"
      ]
    },
    {
      "cell_type": "code",
      "execution_count": 29,
      "id": "ef818497-6077-49fc-995b-ff966b34f6ed",
      "metadata": {
        "deletable": false,
        "editable": false,
        "nbgrader": {
          "cell_type": "code",
          "checksum": "7bd1ab597d72b339b99e7f50f942adc8",
          "grade": true,
          "grade_id": "cell-1b43bae7dea073bd",
          "locked": true,
          "points": 6,
          "schema_version": 3,
          "solution": false,
          "task": false
        },
        "tags": [],
        "id": "ef818497-6077-49fc-995b-ff966b34f6ed"
      },
      "outputs": [],
      "source": [
        "assert result == 'Seoul'"
      ]
    },
    {
      "cell_type": "markdown",
      "id": "95ba003f-ce86-4b49-943d-0e13c635a25e",
      "metadata": {
        "deletable": false,
        "editable": false,
        "nbgrader": {
          "cell_type": "markdown",
          "checksum": "73b8993359620cde44715c89e42b0cf0",
          "grade": false,
          "grade_id": "cell-1c9e6173e29a5561",
          "locked": true,
          "schema_version": 3,
          "solution": false,
          "task": false
        },
        "tags": [],
        "id": "95ba003f-ce86-4b49-943d-0e13c635a25e"
      },
      "source": [
        "#### **Задание 12** 💅\n",
        "\n",
        "Отберите все записи относящиеся к мужчинам"
      ]
    },
    {
      "cell_type": "code",
      "execution_count": 106,
      "id": "5a6fd4c3-a333-4e79-ae62-8d5b91882aac",
      "metadata": {
        "deletable": false,
        "nbgrader": {
          "cell_type": "code",
          "checksum": "dcb68a80e0ff101e12f478aaf2e252eb",
          "grade": false,
          "grade_id": "cell-21cff1e910d36a96",
          "locked": false,
          "schema_version": 3,
          "solution": true,
          "task": false
        },
        "tags": [],
        "id": "5a6fd4c3-a333-4e79-ae62-8d5b91882aac"
      },
      "outputs": [],
      "source": [
        "result = olympics[olympics['Sex'] == 'M']"
      ]
    },
    {
      "cell_type": "code",
      "execution_count": 31,
      "id": "f3092ddf-6fff-4885-bece-439618b05eb4",
      "metadata": {
        "deletable": false,
        "editable": false,
        "nbgrader": {
          "cell_type": "code",
          "checksum": "33bc6aeeed247094a1539c563af249d5",
          "grade": true,
          "grade_id": "cell-6626514d227b1c72",
          "locked": true,
          "points": 6,
          "schema_version": 3,
          "solution": false,
          "task": false
        },
        "tags": [],
        "id": "f3092ddf-6fff-4885-bece-439618b05eb4"
      },
      "outputs": [],
      "source": [
        "assert len(result) == 196594\n",
        "assert hash(result) == 53408147431013694"
      ]
    },
    {
      "cell_type": "markdown",
      "id": "f49e5a17-b18c-4054-bd10-8346ee2a86fc",
      "metadata": {
        "deletable": false,
        "editable": false,
        "nbgrader": {
          "cell_type": "markdown",
          "checksum": "2024c3f7d7b8ebb7e194fbb377d23f97",
          "grade": false,
          "grade_id": "cell-094c9f53fdef5cb0",
          "locked": true,
          "schema_version": 3,
          "solution": false,
          "task": false
        },
        "tags": [],
        "id": "f49e5a17-b18c-4054-bd10-8346ee2a86fc"
      },
      "source": [
        "#### **Задание 13** 💅\n",
        "\n",
        "Отберите все записи относящиеся летним играм в Барселоне"
      ]
    },
    {
      "cell_type": "code",
      "execution_count": 107,
      "id": "0768eeaa-fa61-41f0-b097-21d0455a4fa7",
      "metadata": {
        "deletable": false,
        "nbgrader": {
          "cell_type": "code",
          "checksum": "e418a98953f358136ed6fb10a9d63651",
          "grade": false,
          "grade_id": "cell-233aad32932a7432",
          "locked": false,
          "schema_version": 3,
          "solution": true,
          "task": false
        },
        "tags": [],
        "id": "0768eeaa-fa61-41f0-b097-21d0455a4fa7"
      },
      "outputs": [],
      "source": [
        "result = olympics[(olympics['City'] == 'Barcelona') & (olympics['Season'] == 'Summer')]"
      ]
    },
    {
      "cell_type": "code",
      "execution_count": 33,
      "id": "30648523-5b7a-46a4-a328-2ea8d622273c",
      "metadata": {
        "deletable": false,
        "editable": false,
        "nbgrader": {
          "cell_type": "code",
          "checksum": "95f8707e8b5e75182ecd01447c3a1469",
          "grade": true,
          "grade_id": "cell-4d374ad2be4104be",
          "locked": true,
          "points": 6,
          "schema_version": 3,
          "solution": false,
          "task": false
        },
        "tags": [],
        "id": "30648523-5b7a-46a4-a328-2ea8d622273c"
      },
      "outputs": [],
      "source": [
        "assert len(result) == 12977\n",
        "assert hash(result) == 1257297863566133861"
      ]
    },
    {
      "cell_type": "markdown",
      "id": "270ca9be-9b98-4b4c-8be6-4671c84f700b",
      "metadata": {
        "deletable": false,
        "editable": false,
        "nbgrader": {
          "cell_type": "markdown",
          "checksum": "5cecb90b121e3bf65ee4c0521cc0f2af",
          "grade": false,
          "grade_id": "cell-80c7449f5bcc8e11",
          "locked": true,
          "schema_version": 3,
          "solution": false,
          "task": false
        },
        "tags": [],
        "id": "270ca9be-9b98-4b4c-8be6-4671c84f700b"
      },
      "source": [
        "#### **Задание 14** 💅\n",
        "\n",
        "Какую медаль получила Юлия Липницкая в зимних играх 2014 года в индивидуальном зачёте?"
      ]
    },
    {
      "cell_type": "code",
      "execution_count": 139,
      "id": "a78645b8-3802-4b80-9cd0-07ac9ecb53d4",
      "metadata": {
        "deletable": false,
        "nbgrader": {
          "cell_type": "code",
          "checksum": "68bc18547d3dfbdd36ce86c6cb928fa3",
          "grade": false,
          "grade_id": "cell-cf37c10d511ad76a",
          "locked": false,
          "schema_version": 3,
          "solution": true,
          "task": false
        },
        "tags": [],
        "colab": {
          "base_uri": "https://localhost:8080/"
        },
        "id": "a78645b8-3802-4b80-9cd0-07ac9ecb53d4",
        "outputId": "064c96ad-3ee4-415d-9176-10f227799320"
      },
      "outputs": [
        {
          "output_type": "stream",
          "name": "stdout",
          "text": [
            "140226    NaN\n",
            "Name: Medal, dtype: object\n"
          ]
        }
      ],
      "source": [
        "result = olympics[\n",
        "    (olympics['Name'].str.contains('Lipnitskaya', case=False)) &\n",
        "    (olympics['Year'] == 2014) &\n",
        "    (olympics['Season'] == 'Winter') &\n",
        "    (olympics['Event'].str.contains('Singles', case=False))\n",
        "]['Medal']\n",
        "print(result)\n",
        "# Почему оно не принимает? У нее же записано, что в индивидуальном зачете NaN"
      ]
    },
    {
      "cell_type": "code",
      "execution_count": 137,
      "id": "e2b7daff-7473-45a8-8e94-2c83c2ededc6",
      "metadata": {
        "deletable": false,
        "editable": false,
        "nbgrader": {
          "cell_type": "code",
          "checksum": "fa7a7c579facee5fce491ecb2c6683ee",
          "grade": true,
          "grade_id": "cell-e892bbd6ff7ee7db",
          "locked": true,
          "points": 7,
          "schema_version": 3,
          "solution": false,
          "task": false
        },
        "tags": [],
        "colab": {
          "base_uri": "https://localhost:8080/",
          "height": 175
        },
        "id": "e2b7daff-7473-45a8-8e94-2c83c2ededc6",
        "outputId": "d1b3a591-091c-48f7-c771-09293d176b06"
      },
      "outputs": [
        {
          "output_type": "error",
          "ename": "AssertionError",
          "evalue": "ignored",
          "traceback": [
            "\u001b[0;31m---------------------------------------------------------------------------\u001b[0m",
            "\u001b[0;31mAssertionError\u001b[0m                            Traceback (most recent call last)",
            "\u001b[0;32m<ipython-input-137-a0b8743ce210>\u001b[0m in \u001b[0;36m<cell line: 1>\u001b[0;34m()\u001b[0m\n\u001b[0;32m----> 1\u001b[0;31m \u001b[0;32massert\u001b[0m \u001b[0mresult\u001b[0m \u001b[0;32mis\u001b[0m \u001b[0mnp\u001b[0m\u001b[0;34m.\u001b[0m\u001b[0mnan\u001b[0m\u001b[0;34m\u001b[0m\u001b[0;34m\u001b[0m\u001b[0m\n\u001b[0m",
            "\u001b[0;31mAssertionError\u001b[0m: "
          ]
        }
      ],
      "source": [
        "assert result is np.nan"
      ]
    },
    {
      "cell_type": "markdown",
      "id": "f7f3a309-4622-453b-9dc9-a10ada8b9e24",
      "metadata": {
        "deletable": false,
        "editable": false,
        "nbgrader": {
          "cell_type": "markdown",
          "checksum": "4672c4e713f8eb0b38910fda6555f653",
          "grade": false,
          "grade_id": "cell-0927fd990b5306af",
          "locked": true,
          "schema_version": 3,
          "solution": false,
          "task": false
        },
        "tags": [],
        "id": "f7f3a309-4622-453b-9dc9-a10ada8b9e24"
      },
      "source": [
        "#### **Задание 15** 💅\n",
        "\n",
        "Замените все NA в колонке `Medal` на `\"No medal\"` (для этого есть специальный метод)"
      ]
    },
    {
      "cell_type": "code",
      "execution_count": 135,
      "id": "f4acc5e1-5f67-4f81-b7da-1a0b4fc32258",
      "metadata": {
        "deletable": false,
        "nbgrader": {
          "cell_type": "code",
          "checksum": "4290588ad0340f0f59af3a8c2c2a2e3b",
          "grade": false,
          "grade_id": "cell-097bd3d452be27a8",
          "locked": false,
          "schema_version": 3,
          "solution": true,
          "task": false
        },
        "tags": [],
        "id": "f4acc5e1-5f67-4f81-b7da-1a0b4fc32258"
      },
      "outputs": [],
      "source": [
        "olympics['Medal'] = olympics['Medal'].fillna('No medal')"
      ]
    },
    {
      "cell_type": "code",
      "execution_count": 54,
      "id": "905a8e05-0362-4037-b56f-3ed7c5237084",
      "metadata": {
        "deletable": false,
        "editable": false,
        "nbgrader": {
          "cell_type": "code",
          "checksum": "78b065374e4f2a1ebd3c570b465b65fa",
          "grade": true,
          "grade_id": "cell-e2699ce9b7be179f",
          "locked": true,
          "points": 7,
          "schema_version": 3,
          "solution": false,
          "task": false
        },
        "tags": [],
        "id": "905a8e05-0362-4037-b56f-3ed7c5237084"
      },
      "outputs": [],
      "source": [
        "assert olympics.Medal.isna().sum() == 0\n",
        "assert olympics.Medal.value_counts().to_dict()['No medal'] == 231333\n",
        "assert hash(olympics) == 1196581486896556999"
      ]
    },
    {
      "cell_type": "markdown",
      "id": "1ae84951-f565-4ce4-8be3-5c4de2f35b09",
      "metadata": {
        "deletable": false,
        "editable": false,
        "nbgrader": {
          "cell_type": "markdown",
          "checksum": "ffc404f0a77d80575902f8fe39d50c36",
          "grade": false,
          "grade_id": "cell-70e8c5ebfedc3712",
          "locked": true,
          "schema_version": 3,
          "solution": false,
          "task": false
        },
        "tags": [],
        "id": "1ae84951-f565-4ce4-8be3-5c4de2f35b09"
      },
      "source": [
        "#### **Задание 16** 💅\n",
        "\n",
        "Создайте в дата-фрейме колонку `BMI` с соотвествующими значениями"
      ]
    },
    {
      "cell_type": "code",
      "execution_count": 55,
      "id": "bcf8d7ce-fdea-4296-9531-352aaf95b9a2",
      "metadata": {
        "deletable": false,
        "nbgrader": {
          "cell_type": "code",
          "checksum": "f97609e14c14c986bb21bbb55e23d969",
          "grade": false,
          "grade_id": "cell-22ca17c2d42885e5",
          "locked": false,
          "schema_version": 3,
          "solution": true,
          "task": false
        },
        "tags": [],
        "id": "bcf8d7ce-fdea-4296-9531-352aaf95b9a2"
      },
      "outputs": [],
      "source": [
        "olympics['BMI'] = olympics['Weight'] / (olympics['Height'] / 100) ** 2"
      ]
    },
    {
      "cell_type": "code",
      "execution_count": 56,
      "id": "e5c90a08-784b-47a8-ad2a-81d2fb5326e0",
      "metadata": {
        "deletable": false,
        "editable": false,
        "nbgrader": {
          "cell_type": "code",
          "checksum": "9990ec4707878bd5af419cbe2626a11e",
          "grade": true,
          "grade_id": "cell-2d9eea5a9ad54ea7",
          "locked": true,
          "points": 7,
          "schema_version": 3,
          "solution": false,
          "task": false
        },
        "tags": [],
        "id": "e5c90a08-784b-47a8-ad2a-81d2fb5326e0"
      },
      "outputs": [],
      "source": [
        "assert np.isclose(olympics.BMI.mean(), 22.7845, atol=1e-3)\n",
        "assert np.isclose(olympics.BMI.std(), 2.9120, atol=1e-3)\n",
        "assert olympics.BMI.isna().sum() == 64263\n",
        "assert hash(olympics) == 1059869394349329045"
      ]
    },
    {
      "cell_type": "markdown",
      "source": [
        "**Доп. задание**\n",
        "\n",
        "NA (Not Available): термин часто используется в статистике и анализе данных. Он указывает на отсутствие данных в ячейке или переменной. NA широко используется в языках программирования, таких как R, для обозначения отсутствия данных.\n",
        "\n",
        "None: специфический термин, используемый в некоторых языках программирования, таких как Python. None представляет отсутствие значения. Он отличается от нуля, пустой строки или других типичных \"пустых\" значений в том, что он явно указывает на отсутствие значения.\n",
        "\n",
        "NaN (Not a Number):  термин используется преимущественно в численном анализе. NaN является стандартным способом представления неопределенных или недопустимых числовых результатов во многих системах и языках программирования, включая Python (в библиотеках, таких как NumPy и Pandas) и JavaScript. Примерами операций, которые могут привести к NaN, являются деление нуля на ноль или извлечение квадратного корня из отрицательного числа в контексте вещественных чисел.\n",
        "\n",
        "NULL: термин чаще всего встречается в базах данных и языках запросов, таких как SQL. NULL указывает на отсутствие значения в ячейке базы данных. Он отличается от пустой строки или нуля, поскольку эти значения все еще считаются конкретными значениями, в то время как NULL означает полное отсутствие данных."
      ],
      "metadata": {
        "id": "-X8ZgrPjxjLx"
      },
      "id": "-X8ZgrPjxjLx"
    },
    {
      "cell_type": "markdown",
      "id": "f70e58c3-1075-4777-bc5b-e40a77ee5b67",
      "metadata": {
        "deletable": false,
        "editable": false,
        "nbgrader": {
          "cell_type": "markdown",
          "checksum": "77bb542f8c7cc9f289a4bb3521c29081",
          "grade": false,
          "grade_id": "cell-d6425356d4428528",
          "locked": true,
          "schema_version": 3,
          "solution": false,
          "task": false
        },
        "tags": [],
        "id": "f70e58c3-1075-4777-bc5b-e40a77ee5b67"
      },
      "source": [
        "### **Задание XXX**\n",
        "\n",
        "Нажмите на панели сверху `Kernel` -> `Restart Kernel and Run All Cells...`. Проверьте что нет ошибок."
      ]
    },
    {
      "cell_type": "markdown",
      "id": "0a838e6f-7b36-44c6-b6f0-7fe29afa407e",
      "metadata": {
        "deletable": false,
        "editable": false,
        "nbgrader": {
          "cell_type": "markdown",
          "checksum": "e436f1a3c6b397fe7f6a59049a8db9cc",
          "grade": false,
          "grade_id": "cell-b93c7613f3dc7af1",
          "locked": true,
          "schema_version": 3,
          "solution": false,
          "task": false
        },
        "tags": [],
        "id": "0a838e6f-7b36-44c6-b6f0-7fe29afa407e"
      },
      "source": [
        "---\n",
        "# EDA\n",
        "\n",
        "В 2 части этого ДЗ вам предстоит написать ваш модуль для EDA. Покажите тут, что у вас получилось!\n",
        "\n",
        "> По идее, вам нужно только запустить ячейку и всё. Но можете изменить датасет если хотите.\n",
        "\n",
        ">Приветствие!\n",
        "\n",
        ">Количество наблюдений (строк) и параметров (признаков, столбцов)\n",
        "Какие типы данных у каждой из колонок?\n",
        "Какие признаки численные, какие строковые, а какие - факторные (категориальные)? Это не всегда можно сделать на основе типов данных. Категориальный признак может быть закодирован несколькими цифрами (0, 1, 2), может быть закодирован буквами (\"Gold\", \"Silver\"). С другой стороны рост - признак численный, но в вашем df могут быть люди только с ростом 1 и 2 метра. Ну и понятно, что имена людей - признак строковый, но не категориальный. Таким образом автоматическое разделение на типы признаков без ручной проверки всегда имеет погрешность, это не страшно. Просто придумайте для вашего модуля какое-нибудь более-менее рациональное decision rule. Сохраните названия численных, строковых, и категориальных колонок в коллекции, напечатайте их, но не возвращайте. Они понадобятся далее.\n",
        "\n",
        ">По каждому категориальному признаку выведите counts и frequences (counts / total_counts) значений в df\n",
        "\n",
        ">По каждому численному признаку выведете его min, max, mean, std, q0.25, median, q.075\n",
        "\n",
        ">Выведите количество выбросов по каждому численному признаку, в котором есть выбрсы (здесь возьмем правило ± 1.5 IQR)\n",
        "\n",
        ">Сколько пропущенных значений всего в df, сколько строк содержат пропущенные значения, какие столбцы содержат пропущенные значения?\n",
        "\n",
        ">Сколько дублирующихся строк в df?"
      ]
    },
    {
      "cell_type": "code",
      "execution_count": 146,
      "id": "44e7c441-59c0-4425-b426-7837bcce6ef6",
      "metadata": {
        "tags": [],
        "id": "44e7c441-59c0-4425-b426-7837bcce6ef6"
      },
      "outputs": [],
      "source": [
        "# Можете вставить любой репрезантивный дата-фрейм на ваше усмотрение :)\n",
        "data_dir = 'https://raw.githubusercontent.com/Python-BI-2023/course_materials/main/data/'\n",
        "df = pd.read_csv(data_dir + 'titanic.csv')"
      ]
    },
    {
      "cell_type": "code",
      "execution_count": 148,
      "id": "f0063f55-d0aa-4fed-83ef-3abb135a7a93",
      "metadata": {
        "deletable": false,
        "editable": false,
        "nbgrader": {
          "cell_type": "code",
          "checksum": "9817bfa3374ebcb7d907f8455d09a3e0",
          "grade": false,
          "grade_id": "cell-82741bbfee5f6a8e",
          "locked": true,
          "schema_version": 3,
          "solution": false,
          "task": false
        },
        "tags": [],
        "colab": {
          "base_uri": "https://localhost:8080/"
        },
        "id": "f0063f55-d0aa-4fed-83ef-3abb135a7a93",
        "outputId": "a332c508-7237-4a02-faaa-2768b571369a"
      },
      "outputs": [
        {
          "output_type": "stream",
          "name": "stdout",
          "text": [
            "Welcome to the EDA of your DataFrame!\n",
            "Number of observations (rows): 418\n",
            "Number of features (columns): 11\n",
            "Data types of each column:\n",
            "PassengerId      int64\n",
            "Pclass           int64\n",
            "Name            object\n",
            "Sex             object\n",
            "Age            float64\n",
            "SibSp            int64\n",
            "Parch            int64\n",
            "Ticket          object\n",
            "Fare           float64\n",
            "Cabin           object\n",
            "Embarked        object\n",
            "dtype: object\n",
            "Numeric columns: Index(['PassengerId', 'Pclass', 'Age', 'SibSp', 'Parch', 'Fare'], dtype='object')\n",
            "Categorical columns: Index(['Name', 'Sex', 'Ticket', 'Cabin', 'Embarked'], dtype='object')\n",
            "Numeric columns: Index(['PassengerId', 'Age', 'SibSp', 'Parch', 'Fare'], dtype='object')\n",
            "Categorical columns: Index(['Name', 'Sex', 'Ticket', 'Cabin', 'Embarked', 'Pclass'], dtype='object')\n",
            "Numeric columns: Index(['PassengerId', 'Age', 'SibSp', 'Parch', 'Fare'], dtype='object')\n",
            "Categorical columns: Index(['Name', 'Sex', 'Ticket', 'Cabin', 'Embarked', 'Pclass'], dtype='object')\n",
            "Numeric columns: Index(['PassengerId', 'Age', 'Parch', 'Fare'], dtype='object')\n",
            "Categorical columns: Index(['Name', 'Sex', 'Ticket', 'Cabin', 'Embarked', 'Pclass', 'SibSp'], dtype='object')\n",
            "Numeric columns: Index(['PassengerId', 'Age', 'Fare'], dtype='object')\n",
            "Categorical columns: Index(['Name', 'Sex', 'Ticket', 'Cabin', 'Embarked', 'Pclass', 'SibSp',\n",
            "       'Parch'],\n",
            "      dtype='object')\n",
            "Numeric columns: Index(['PassengerId', 'Age', 'Fare'], dtype='object')\n",
            "Categorical columns: Index(['Name', 'Sex', 'Ticket', 'Cabin', 'Embarked', 'Pclass', 'SibSp',\n",
            "       'Parch'],\n",
            "      dtype='object')\n",
            "Analysis of Name:\n",
            "Kelly, Mr. James               1\n",
            "Carr, Miss. Jeannie            1\n",
            "Dennis, Mr. William            1\n",
            "Rosblom, Miss. Salli Helena    1\n",
            "Touma, Miss. Maria Youssef     1\n",
            "                              ..\n",
            "Zakarian, Mr. Mapriededer      1\n",
            "Carlsson, Mr. Carl Robert      1\n",
            "Dintcheff, Mr. Valtcho         1\n",
            "Thomas, Mr. Charles P          1\n",
            "Peter, Master. Michael J       1\n",
            "Name: Name, Length: 418, dtype: int64\n",
            "Kelly, Mr. James               0.002392\n",
            "Carr, Miss. Jeannie            0.002392\n",
            "Dennis, Mr. William            0.002392\n",
            "Rosblom, Miss. Salli Helena    0.002392\n",
            "Touma, Miss. Maria Youssef     0.002392\n",
            "                                 ...   \n",
            "Zakarian, Mr. Mapriededer      0.002392\n",
            "Carlsson, Mr. Carl Robert      0.002392\n",
            "Dintcheff, Mr. Valtcho         0.002392\n",
            "Thomas, Mr. Charles P          0.002392\n",
            "Peter, Master. Michael J       0.002392\n",
            "Name: Name, Length: 418, dtype: float64\n",
            "Analysis of Sex:\n",
            "male      266\n",
            "female    152\n",
            "Name: Sex, dtype: int64\n",
            "male      0.636364\n",
            "female    0.363636\n",
            "Name: Sex, dtype: float64\n",
            "Analysis of Ticket:\n",
            "PC 17608    5\n",
            "CA. 2343    4\n",
            "113503      4\n",
            "PC 17483    3\n",
            "220845      3\n",
            "           ..\n",
            "349226      1\n",
            "2621        1\n",
            "4133        1\n",
            "113780      1\n",
            "2668        1\n",
            "Name: Ticket, Length: 363, dtype: int64\n",
            "PC 17608    0.011962\n",
            "CA. 2343    0.009569\n",
            "113503      0.009569\n",
            "PC 17483    0.007177\n",
            "220845      0.007177\n",
            "              ...   \n",
            "349226      0.002392\n",
            "2621        0.002392\n",
            "4133        0.002392\n",
            "113780      0.002392\n",
            "2668        0.002392\n",
            "Name: Ticket, Length: 363, dtype: float64\n",
            "Analysis of Cabin:\n",
            "B57 B59 B63 B66    3\n",
            "B45                2\n",
            "C89                2\n",
            "C55 C57            2\n",
            "A34                2\n",
            "                  ..\n",
            "E52                1\n",
            "D30                1\n",
            "E31                1\n",
            "C62 C64            1\n",
            "C105               1\n",
            "Name: Cabin, Length: 76, dtype: int64\n",
            "B57 B59 B63 B66    0.032967\n",
            "B45                0.021978\n",
            "C89                0.021978\n",
            "C55 C57            0.021978\n",
            "A34                0.021978\n",
            "                     ...   \n",
            "E52                0.010989\n",
            "D30                0.010989\n",
            "E31                0.010989\n",
            "C62 C64            0.010989\n",
            "C105               0.010989\n",
            "Name: Cabin, Length: 76, dtype: float64\n",
            "Analysis of Embarked:\n",
            "S    270\n",
            "C    102\n",
            "Q     46\n",
            "Name: Embarked, dtype: int64\n",
            "S    0.645933\n",
            "C    0.244019\n",
            "Q    0.110048\n",
            "Name: Embarked, dtype: float64\n",
            "Analysis of Pclass:\n",
            "3    218\n",
            "1    107\n",
            "2     93\n",
            "Name: Pclass, dtype: int64\n",
            "3    0.521531\n",
            "1    0.255981\n",
            "2    0.222488\n",
            "Name: Pclass, dtype: float64\n",
            "Analysis of SibSp:\n",
            "0    283\n",
            "1    110\n",
            "2     14\n",
            "3      4\n",
            "4      4\n",
            "8      2\n",
            "5      1\n",
            "Name: SibSp, dtype: int64\n",
            "0    0.677033\n",
            "1    0.263158\n",
            "2    0.033493\n",
            "3    0.009569\n",
            "4    0.009569\n",
            "8    0.004785\n",
            "5    0.002392\n",
            "Name: SibSp, dtype: float64\n",
            "Analysis of Parch:\n",
            "0    324\n",
            "1     52\n",
            "2     33\n",
            "3      3\n",
            "4      2\n",
            "9      2\n",
            "6      1\n",
            "5      1\n",
            "Name: Parch, dtype: int64\n",
            "0    0.775120\n",
            "1    0.124402\n",
            "2    0.078947\n",
            "3    0.007177\n",
            "4    0.004785\n",
            "9    0.004785\n",
            "6    0.002392\n",
            "5    0.002392\n",
            "Name: Parch, dtype: float64\n",
            "Analysis of PassengerId:\n",
            "Min: 892\n",
            "Max: 1309\n",
            "Mean: 1100.5\n",
            "Std: 120.81045760473994\n",
            "25th percentile: 996.25\n",
            "Median: 1100.5\n",
            "75th percentile: 1204.75\n",
            "Number of outliers in PassengerId: 0\n",
            "Analysis of Age:\n",
            "Min: 0.17\n",
            "Max: 76.0\n",
            "Mean: 30.272590361445783\n",
            "Std: 14.181209235624422\n",
            "25th percentile: 21.0\n",
            "Median: 27.0\n",
            "75th percentile: 39.0\n",
            "Number of outliers in Age: 2\n",
            "Analysis of Fare:\n",
            "Min: 0.0\n",
            "Max: 512.3292\n",
            "Mean: 35.627188489208635\n",
            "Std: 55.907576179973844\n",
            "25th percentile: 7.8958\n",
            "Median: 14.4542\n",
            "75th percentile: 31.5\n",
            "Number of outliers in Fare: 55\n",
            "Total missing values: 414\n",
            "Rows with missing values: 331\n",
            "Columns with missing values: ['Age', 'Fare', 'Cabin']\n",
            "Number of duplicate rows: 0\n"
          ]
        }
      ],
      "source": [
        "from my_awesome_eda import run_eda\n",
        "\n",
        "run_eda(df)"
      ]
    },
    {
      "cell_type": "markdown",
      "id": "acd3815b-14af-44df-8d78-11f261e46325",
      "metadata": {
        "deletable": false,
        "editable": false,
        "nbgrader": {
          "cell_type": "markdown",
          "checksum": "e9ddc57eb792c49c081464a4e4fb1782",
          "grade": false,
          "grade_id": "cell-b75415a18ce0d88f",
          "locked": true,
          "schema_version": 3,
          "solution": false,
          "task": false
        },
        "tags": [],
        "id": "acd3815b-14af-44df-8d78-11f261e46325"
      },
      "source": [
        "---\n",
        "\n",
        "Надеюсь, у тебя всё получилось! Но в любом случае - ты молодец:)🥳\n",
        "\n",
        "---"
      ]
    }
  ],
  "metadata": {
    "kernelspec": {
      "display_name": "Python 3 (ipykernel)",
      "language": "python",
      "name": "python3"
    },
    "language_info": {
      "codemirror_mode": {
        "name": "ipython",
        "version": 3
      },
      "file_extension": ".py",
      "mimetype": "text/x-python",
      "name": "python",
      "nbconvert_exporter": "python",
      "pygments_lexer": "ipython3",
      "version": "3.11.6"
    },
    "colab": {
      "provenance": []
    }
  },
  "nbformat": 4,
  "nbformat_minor": 5
}